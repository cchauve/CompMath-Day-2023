{
 "cells": [
  {
   "cell_type": "markdown",
   "metadata": {},
   "source": [
    "# Hybrid assemblies analysis"
   ]
  },
  {
   "cell_type": "code",
   "execution_count": 47,
   "metadata": {},
   "outputs": [
    {
     "name": "stdout",
     "output_type": "stream",
     "text": [
      "Aniket Mane & Cedric Chauve\n",
      "2022-10-11\n"
     ]
    }
   ],
   "source": [
    "import os\n",
    "import numpy as np\n",
    "import pandas as pd\n",
    "from datetime import date\n",
    "from collections import defaultdict\n",
    "today = date.today()\n",
    "\n",
    "print(f'Aniket Mane & Cedric Chauve\\n{today}')"
   ]
  },
  {
   "cell_type": "markdown",
   "metadata": {},
   "source": [
    "## Overview\n",
    "\n",
    "This document contains a very preliminary analysis of the the *Enterococcus* data sets. \n",
    "It focuses on two questions:\n",
    "- accuracy of using the hybrid assemblies to define ground truth plasmids;\n",
    "- performances of plasmid prediction methods on the data sets.\n",
    "\n",
    "The main outcome of the first part of the analysis is that the hybrid assembliers do not provide an accurate source for esablishing plasmids ground truth, thus rending the second part much less informative."
   ]
  },
  {
   "cell_type": "code",
   "execution_count": 2,
   "metadata": {},
   "outputs": [],
   "source": [
    "#!pip install matplotlib"
   ]
  },
  {
   "cell_type": "code",
   "execution_count": 3,
   "metadata": {},
   "outputs": [],
   "source": [
    "import matplotlib\n",
    "import matplotlib.pyplot as plt"
   ]
  },
  {
   "cell_type": "code",
   "execution_count": 4,
   "metadata": {},
   "outputs": [],
   "source": [
    "# Datasets statistics files\n",
    "Efaecalis_isolates = 'isolate_details_Efaecalis.csv'\n",
    "Efaecium_isolates = 'isolate_details_Efaecium.csv'\n",
    "Efaecalis_contigs = 'ctg_details_Efaecalis.csv'\n",
    "Efaecium_contigs = 'ctg_details_Efaecium.csv'"
   ]
  },
  {
   "cell_type": "markdown",
   "metadata": {},
   "source": [
    "## Data\n",
    "\n",
    "The statistics about hybrid assemblies are available in the files `ctg_details_Efaecalis.csv` and `ctg_details_Efaecium.csv`.\n",
    "\n",
    "The results of **HyAsP**, **MOBSuite** and **PlasBin** are available in the files `isolate_details_Efaecalis.csv` and `isolate_details_Efaecium.csv`."
   ]
  },
  {
   "cell_type": "markdown",
   "metadata": {},
   "source": [
    "## Labelling hybrid contigs\n",
    "\n",
    "The goal of labelling hybrid contigs is to identify which such contigs are likely plasmid contigs, in order they can be used to define the ground truth for the short-reads assemblies, through mapping short-reads contigs onto hybrid contigs.\n",
    "\n",
    "For each species, we determine, from the length distribution of the circular hybrid contigs for all isolates, a **threshold L** that separates short circular contigs (plasmids) from other contigs (chromosomes).\n",
    "\n",
    "Then we assign a class to each hybrid contig as follows:\n",
    "- circular contigs of length at most **L** are labelled as *plasmids*;\n",
    "- contigs (circular or otherwise) that are longer than **L** are labelled as *chromosomes*;\n",
    "- all remaining contigs, i.e. linear contigs of length below **L**, are labelled as *ambiguous*.\n",
    "\n",
    "This has the downside that if a plasmid has not been fully assembled, and appears in a set of short linear contigs, then they will all be labelled as ambiguous, and this will impact how we evaluate plasmid predicion methods.\n",
    "\n",
    "In the experiments below, we look at the prevalence of such ambiguous contigs."
   ]
  },
  {
   "cell_type": "markdown",
   "metadata": {},
   "source": [
    "## E. faecalis\n",
    "\n",
    "We present our analysis of the *E. faecalis* isolates.\n",
    "In the following, contig refer to hybrid contigs."
   ]
  },
  {
   "cell_type": "markdown",
   "metadata": {},
   "source": [
    "##### Statistics on isolates and contigs"
   ]
  },
  {
   "cell_type": "code",
   "execution_count": 5,
   "metadata": {},
   "outputs": [],
   "source": [
    "# Reading hybrid contigs details.\n",
    "EFAECALIS_CONTIGS = pd.read_csv('ctg_details_Efaecalis.csv')\n",
    "EFAECALIS_CONTIGS_NB = len(EFAECALIS_CONTIGS)\n",
    "EFAECALIS_NB_SAMPLES = len(EFAECALIS_CONTIGS['SRA'].value_counts())\n",
    "# Plasmid contigs\n",
    "EFAECALIS_PLASMIDS = EFAECALIS_CONTIGS[(EFAECALIS_CONTIGS['classification'] == 'plasmid')]\n",
    "EFAECALIS_NB_PLASMIDS = EFAECALIS_PLASMIDS.shape[0]\n",
    "EFAECALIS_NB_PLASMIDS_SAMPLES = len(EFAECALIS_PLASMIDS['SRA'].value_counts())"
   ]
  },
  {
   "cell_type": "code",
   "execution_count": 9,
   "metadata": {},
   "outputs": [
    {
     "name": "stdout",
     "output_type": "stream",
     "text": [
      "The total number of E. faecalis isolates is 60 and of contigs over all isolates is 958\n"
     ]
    }
   ],
   "source": [
    "print(f'The total number of E. faecalis isolates is {EFAECALIS_NB_SAMPLES} and of contigs over all isolates is {EFAECALIS_CONTIGS_NB}')\n",
    "# print(f'The number of contigs labelled as plasmid over all isolates is {EFAECALIS_NB_PLASMIDS}')\n",
    "# print(f'The number of samples with no contig labelled as plasmid is {EFAECALIS_NB_SAMPLES-EFAECALIS_NB_PLASMIDS_SAMPLES}')"
   ]
  },
  {
   "cell_type": "markdown",
   "metadata": {},
   "source": [
    "##### Length distribution of circular contigs\n",
    "\n",
    "The key parameter to labelling contigs as is the threshold **L**, that has to be chosen in an informed way. Our approach is to consider only circular contigs and to select a threshold that separates long circular contigs (likely from chromosomes) from smaller ones (likely plasmids)."
   ]
  },
  {
   "cell_type": "code",
   "execution_count": 10,
   "metadata": {},
   "outputs": [],
   "source": [
    "CIRCULAR_CONTIGS = EFAECALIS_CONTIGS[(EFAECALIS_CONTIGS['circularity'] == 1)]\n",
    "CIRCULAR_CONTIGS_CHROM = CIRCULAR_CONTIGS[CIRCULAR_CONTIGS['classification'] == 'chromosome']\n",
    "CIRCULAR_CONTIGS_PLASMIDS = CIRCULAR_CONTIGS[CIRCULAR_CONTIGS['classification'] == 'plasmid']"
   ]
  },
  {
   "cell_type": "code",
   "execution_count": 11,
   "metadata": {
    "scrolled": true
   },
   "outputs": [
    {
     "data": {
      "image/png": "[encoded data removed]",
      "text/plain": [
       "<Figure size 720x288 with 1 Axes>"
      ]
     },
     "metadata": {
      "needs_background": "light"
     },
     "output_type": "display_data"
    }
   ],
   "source": [
    "figure1 = CIRCULAR_CONTIGS.hist(column=[\"contig_length\"], bins=40, figsize=(10,4))\n",
    "plt.title('Length of hybrid circular contigs', fontsize=15)\n",
    "plt.xlabel('Hybrid circular contig length')\n",
    "plt.ylabel('Frequency')\n",
    "plt.grid()\n",
    "plt.show()"
   ]
  },
  {
   "cell_type": "markdown",
   "metadata": {},
   "source": [
    "The figure above shows a very clear separation between short and long circular contigs, however leaving a very large gap where to chose **L**. We take a stringent approach and choose a small value of **L = 300000**."
   ]
  },
  {
   "cell_type": "code",
   "execution_count": 14,
   "metadata": {},
   "outputs": [],
   "source": [
    "EFAECALIS_THRESHOLD = 300000"
   ]
  },
  {
   "cell_type": "code",
   "execution_count": 9,
   "metadata": {},
   "outputs": [
    {
     "name": "stdout",
     "output_type": "stream",
     "text": [
      "Over all E. faecalis isolates there are 97 circular contigs\n",
      "  24 are classified as chromosome\n",
      "  73 are classified as plasmid\n"
     ]
    }
   ],
   "source": [
    "print(f'Over all E. faecalis isolates there are {len(CIRCULAR_CONTIGS)} circular contigs')\n",
    "print(f'  {len(CIRCULAR_CONTIGS_CHROM)} are classified as chromosome')\n",
    "print(f'  {len(CIRCULAR_CONTIGS_PLASMIDS)} are classified as plasmid')"
   ]
  },
  {
   "cell_type": "markdown",
   "metadata": {},
   "source": [
    "The small number of chromosome contigs compared to the total number of isolates shows that on average the chromosome is not fully assembled into a circular contig. "
   ]
  },
  {
   "cell_type": "markdown",
   "metadata": {},
   "source": [
    "##### Hybrid contigs classified as plasmids"
   ]
  },
  {
   "cell_type": "code",
   "execution_count": 12,
   "metadata": {},
   "outputs": [
    {
     "data": {
      "image/png": "[encoded data removed]",
      "text/plain": [
       "<Figure size 720x360 with 1 Axes>"
      ]
     },
     "metadata": {
      "needs_background": "light"
     },
     "output_type": "display_data"
    }
   ],
   "source": [
    "# Number of hybrid plasmid ontigs per isolate with at least one\n",
    "EFAECALIS_PLASMIDS_CTGS_labels, EFAECALIS_PLASMIDS_CTGS_counts = np.unique(EFAECALIS_PLASMIDS['SRA'].value_counts(), return_counts=True)\n",
    "figure2 = plt.figure(figsize=(10,5))\n",
    "plt.title('E. Faecalis: distribution of the number of hybrid plasmid contigs per isolate', fontsize=15)\n",
    "plt.xlabel('Number of hybrid plasmid contigs')\n",
    "plt.ylabel('Number of isolates')\n",
    "plt.bar(EFAECALIS_PLASMIDS_CTGS_labels, EFAECALIS_PLASMIDS_CTGS_counts, align='center', width=0.3)\n",
    "plt.grid()\n",
    "plt.gca().set_xticks(EFAECALIS_PLASMIDS_CTGS_labels)\n",
    "plt.show()"
   ]
  },
  {
   "cell_type": "markdown",
   "metadata": {},
   "source": [
    "The above figure seems reasonable. We do not see isolates with an unexpectedly large number of plasmids (reminder that as we impose circularity to contigs labelled plasmids, we expect each such contig to be a fully assmebled plasmid)."
   ]
  },
  {
   "cell_type": "markdown",
   "metadata": {},
   "source": [
    "##### Distribution of contig lengths per label\n",
    "\n",
    "We now look at the three classes of contigs (plasmid, chromosome and ambiguous), especially to understand better features of ambiguous contigs, whose large number casts a shadow on the whole project."
   ]
  },
  {
   "cell_type": "code",
   "execution_count": 15,
   "metadata": {},
   "outputs": [],
   "source": [
    "#Re-assigning labels to non-circular contigs smaller than the threshold as 'ambiguous'\n",
    "for i, row in EFAECALIS_CONTIGS.iterrows():\n",
    "    if (EFAECALIS_CONTIGS.loc[i,'classification'] == 'chromosome') & (EFAECALIS_CONTIGS.loc[i,'contig_length'] <= EFAECALIS_THRESHOLD):\n",
    "        EFAECALIS_CONTIGS.at[i,'classification'] = 'ambiguous'     "
   ]
  },
  {
   "cell_type": "code",
   "execution_count": 21,
   "metadata": {},
   "outputs": [
    {
     "name": "stdout",
     "output_type": "stream",
     "text": [
      "Number of chromosome contigs: 71\n",
      "Number of plasmid contigs: 73\n",
      "Number of ambiguous contigs: 814\n"
     ]
    }
   ],
   "source": [
    "EFAECALIS_PLASMID_NB = EFAECALIS_CONTIGS[EFAECALIS_CONTIGS['classification'] == 'plasmid'].shape[0]\n",
    "EFAECALIS_CHROM_NB = EFAECALIS_CONTIGS[EFAECALIS_CONTIGS['classification'] == 'chromosome'].shape[0]\n",
    "EFAECALIS_AMBIG_NB = EFAECALIS_CONTIGS[EFAECALIS_CONTIGS['classification'] == 'ambiguous'].shape[0]\n",
    "print(f'Number of chromosome contigs: {EFAECALIS_CHROM_NB}')\n",
    "print(f'Number of plasmid contigs: {EFAECALIS_PLASMID_NB}')\n",
    "print(f'Number of ambiguous contigs: {EFAECALIS_AMBIG_NB}')"
   ]
  },
  {
   "cell_type": "markdown",
   "metadata": {},
   "source": [
    "Overall we see that a very large number of contigs are ambiguous. We will discuss this later. But first we look at the length distribution of the contigs per class."
   ]
  },
  {
   "cell_type": "code",
   "execution_count": 22,
   "metadata": {},
   "outputs": [
    {
     "name": "stdout",
     "output_type": "stream",
     "text": [
      "Hybrid contig length distribution per class\n"
     ]
    },
    {
     "data": {
      "image/png": "[encoded data removed]",
      "text/plain": [
       "<Figure size 1440x864 with 4 Axes>"
      ]
     },
     "metadata": {
      "needs_background": "light"
     },
     "output_type": "display_data"
    }
   ],
   "source": [
    "EFAECALIS_CONTIGS_LEN = EFAECALIS_CONTIGS[['contig_length','classification']]\n",
    "print(f'Hybrid contig length distribution per class')\n",
    "figure4 = EFAECALIS_CONTIGS_LEN.hist(by=\"classification\", bins=40, figsize=(20, 12))"
   ]
  },
  {
   "cell_type": "code",
   "execution_count": 23,
   "metadata": {},
   "outputs": [
    {
     "name": "stdout",
     "output_type": "stream",
     "text": [
      "887 out of 958 contigs are under 300000 bp in length and 814 of these contigs have been classified as ambiguous because they are linear.\n"
     ]
    }
   ],
   "source": [
    "nb_short_contigs = len(EFAECALIS_CONTIGS[(EFAECALIS_CONTIGS[\"contig_length\"] <= EFAECALIS_THRESHOLD)])\n",
    "nb_short_ambig_contigs = len(EFAECALIS_CONTIGS[(EFAECALIS_CONTIGS[\"contig_length\"] <= EFAECALIS_THRESHOLD) & (EFAECALIS_CONTIGS['classification'] == 'ambiguous')])\n",
    "print(f'{nb_short_contigs} out of {EFAECALIS_CONTIGS_NB} contigs are under {EFAECALIS_THRESHOLD} bp in length and {nb_short_ambig_contigs} of these contigs have been classified as ambiguous because they are linear.')"
   ]
  },
  {
   "cell_type": "markdown",
   "metadata": {},
   "source": [
    "Most of the ambiguous contigs are very short. There is a strong separation between plasmid and chromosome contigs, with the chosen threshold (300000bp) to label contigs as plasmid being far from the largest plasmid contig. \n",
    "\n",
    "The separation beween ambiguous and chromosome contigs is much less clear, although the number of long ambiguous contigs is quite small. \n",
    "\n",
    "The main question is about the large number of relatively short ambiguous contigs: how many true plasmid contigs do-we miss?\n",
    "\n",
    "In terms of subsequent analysis, the impact of ambiguous contigs is also crucial: how should we handle such contigs if a plasmid prediction tool includes some in predicted plasmids."
   ]
  },
  {
   "cell_type": "markdown",
   "metadata": {},
   "source": [
    "We look at the impact of the chosen threshold **L** on the number of contigs in each class."
   ]
  },
  {
   "cell_type": "code",
   "execution_count": 27,
   "metadata": {},
   "outputs": [
    {
     "name": "stdout",
     "output_type": "stream",
     "text": [
      "Length thresholds from 100000 to 2000000 (bp) in multiples of 100000\n"
     ]
    }
   ],
   "source": [
    "def split_by_threshold(L, df):\n",
    "    PLS_NB = df[(df['contig_length'] <= L) & (df['circularity'] == 1)].shape[0]\n",
    "    CHR_NB = df[df['contig_length'] > L].shape[0]\n",
    "    AMB_NB = df.shape[0] - PLS_NB - CHR_NB\n",
    "    return CHR_NB, PLS_NB, AMB_NB\n",
    "\n",
    "M = 100000\n",
    "R = 20\n",
    "print(f'Length thresholds from {M} to {R*M} (bp) in multiples of {M}')\n",
    "THRESHOLDS = np.array([i*100000 for i in range(1,21)])"
   ]
  },
  {
   "cell_type": "code",
   "execution_count": 31,
   "metadata": {},
   "outputs": [
    {
     "data": {
      "image/png": "[encoded data removed]",
      "text/plain": [
       "<Figure size 1440x504 with 1 Axes>"
      ]
     },
     "metadata": {
      "needs_background": "light"
     },
     "output_type": "display_data"
    }
   ],
   "source": [
    "EFAECALIS_CHR_BY_THRESHOLD, EFAECALIS_PLS_BY_THRESHOLD, EFAECALIS_AMB_BY_THRESHOLD = np.empty(20),np.empty(20),np.empty(20) \n",
    "\n",
    "for i in range(len(THRESHOLDS)):\n",
    "    L = THRESHOLDS[i]\n",
    "    CHR_NB, PLS_NB, AMB_NB = split_by_threshold(L, EFAECALIS_CONTIGS)\n",
    "    EFAECALIS_CHR_BY_THRESHOLD[i] = CHR_NB \n",
    "    EFAECALIS_PLS_BY_THRESHOLD[i] = PLS_NB\n",
    "    EFAECALIS_AMB_BY_THRESHOLD[i] = AMB_NB\n",
    "THR_LIST = [str(x) for x in THRESHOLDS]\n",
    "\n",
    "figure3 = plt.figure(figsize=(20,7))\n",
    "plt.bar(THR_LIST, EFAECALIS_CHR_BY_THRESHOLD, color='r')\n",
    "plt.bar(THR_LIST, EFAECALIS_PLS_BY_THRESHOLD, bottom=EFAECALIS_CHR_BY_THRESHOLD, color='b')\n",
    "plt.bar(THR_LIST, EFAECALIS_AMB_BY_THRESHOLD, bottom=EFAECALIS_CHR_BY_THRESHOLD+EFAECALIS_PLS_BY_THRESHOLD, color='y')\n",
    "\n",
    "plt.xlabel(\"Length threshold (bp)\",fontsize=15)\n",
    "plt.ylabel(\"Number of contigs\",fontsize=15)\n",
    "plt.legend([\"Chromosome\", \"Plasmid\", \"Ambiguous\"],fontsize=10)\n",
    "plt.title(\"Contigs labelled as chromosomes, plasmids and ambiguous by length threshold\",fontsize=15)\n",
    "plt.show()"
   ]
  },
  {
   "cell_type": "markdown",
   "metadata": {},
   "source": [
    "The choice of **L** doe not impact significantly the number of ambiguous contigs, that are the main problem."
   ]
  },
  {
   "cell_type": "markdown",
   "metadata": {},
   "source": [
    "#### Landscape of contigs distribution\n",
    "\n",
    "We look at all isolates separately to see how the hybrid contigs are classified. \n",
    "\n",
    "The table below shows that a large number of sample have many ambiguous contigs (i.e. the large number of ambiguous contigs does not originate from a handful of isolates), and there are many samples with no plasmid contig and many ambiguous contigs."
   ]
  },
  {
   "cell_type": "code",
   "execution_count": 85,
   "metadata": {},
   "outputs": [],
   "source": [
    "EFAECALIS_CONTIGS_GROUPED_DICT = {}\n",
    "for idx, row in EFAECALIS_CONTIGS.iterrows():\n",
    "    EFAECALIS_CONTIGS_GROUPED_DICT[row['SRA']] = defaultdict(int)\n",
    "for idx, row in EFAECALIS_CONTIGS.iterrows():\n",
    "    EFAECALIS_CONTIGS_GROUPED_DICT[row['SRA']][row['classification']] += 1\n",
    "EFAECALIS_CONTIGS_GROUPED = pd.DataFrame.from_dict(EFAECALIS_CONTIGS_GROUPED_DICT, orient='index').fillna(0)\n",
    "EFAECALIS_CONTIGS_GROUPED.sort_values('ambiguous', inplace=True, ascending=False)"
   ]
  },
  {
   "cell_type": "code",
   "execution_count": 86,
   "metadata": {},
   "outputs": [
    {
     "data": {
      "text/html": [
       "<div>\n",
       "<style scoped>\n",
       "    .dataframe tbody tr th:only-of-type {\n",
       "        vertical-align: middle;\n",
       "    }\n",
       "\n",
       "    .dataframe tbody tr th {\n",
       "        vertical-align: top;\n",
       "    }\n",
       "\n",
       "    .dataframe thead th {\n",
       "        text-align: right;\n",
       "    }\n",
       "</style>\n",
       "<table border=\"1\" class=\"dataframe\">\n",
       "  <thead>\n",
       "    <tr style=\"text-align: right;\">\n",
       "      <th></th>\n",
       "      <th>chromosome</th>\n",
       "      <th>ambiguous</th>\n",
       "      <th>plasmid</th>\n",
       "    </tr>\n",
       "  </thead>\n",
       "  <tbody>\n",
       "    <tr>\n",
       "      <th>SRR14000614</th>\n",
       "      <td>2.0</td>\n",
       "      <td>80.0</td>\n",
       "      <td>1.0</td>\n",
       "    </tr>\n",
       "    <tr>\n",
       "      <th>SRR14024961</th>\n",
       "      <td>0.0</td>\n",
       "      <td>69.0</td>\n",
       "      <td>0.0</td>\n",
       "    </tr>\n",
       "    <tr>\n",
       "      <th>SRR13726590</th>\n",
       "      <td>2.0</td>\n",
       "      <td>64.0</td>\n",
       "      <td>3.0</td>\n",
       "    </tr>\n",
       "    <tr>\n",
       "      <th>SRR13727011</th>\n",
       "      <td>1.0</td>\n",
       "      <td>63.0</td>\n",
       "      <td>0.0</td>\n",
       "    </tr>\n",
       "    <tr>\n",
       "      <th>SRR13726582</th>\n",
       "      <td>1.0</td>\n",
       "      <td>49.0</td>\n",
       "      <td>2.0</td>\n",
       "    </tr>\n",
       "    <tr>\n",
       "      <th>SRR13999927</th>\n",
       "      <td>2.0</td>\n",
       "      <td>46.0</td>\n",
       "      <td>1.0</td>\n",
       "    </tr>\n",
       "    <tr>\n",
       "      <th>SRR13726551</th>\n",
       "      <td>1.0</td>\n",
       "      <td>44.0</td>\n",
       "      <td>0.0</td>\n",
       "    </tr>\n",
       "    <tr>\n",
       "      <th>SRR13999934</th>\n",
       "      <td>2.0</td>\n",
       "      <td>39.0</td>\n",
       "      <td>4.0</td>\n",
       "    </tr>\n",
       "    <tr>\n",
       "      <th>SRR13727008</th>\n",
       "      <td>4.0</td>\n",
       "      <td>29.0</td>\n",
       "      <td>1.0</td>\n",
       "    </tr>\n",
       "    <tr>\n",
       "      <th>SRR14000594</th>\n",
       "      <td>1.0</td>\n",
       "      <td>24.0</td>\n",
       "      <td>1.0</td>\n",
       "    </tr>\n",
       "    <tr>\n",
       "      <th>SRR13712363</th>\n",
       "      <td>3.0</td>\n",
       "      <td>22.0</td>\n",
       "      <td>1.0</td>\n",
       "    </tr>\n",
       "    <tr>\n",
       "      <th>SRR13725703</th>\n",
       "      <td>1.0</td>\n",
       "      <td>21.0</td>\n",
       "      <td>0.0</td>\n",
       "    </tr>\n",
       "    <tr>\n",
       "      <th>SRR13726554</th>\n",
       "      <td>1.0</td>\n",
       "      <td>20.0</td>\n",
       "      <td>1.0</td>\n",
       "    </tr>\n",
       "    <tr>\n",
       "      <th>SRR13712377</th>\n",
       "      <td>1.0</td>\n",
       "      <td>16.0</td>\n",
       "      <td>0.0</td>\n",
       "    </tr>\n",
       "    <tr>\n",
       "      <th>SRR13725727</th>\n",
       "      <td>1.0</td>\n",
       "      <td>15.0</td>\n",
       "      <td>1.0</td>\n",
       "    </tr>\n",
       "    <tr>\n",
       "      <th>SRR14000019</th>\n",
       "      <td>1.0</td>\n",
       "      <td>15.0</td>\n",
       "      <td>0.0</td>\n",
       "    </tr>\n",
       "    <tr>\n",
       "      <th>SRR13726529</th>\n",
       "      <td>1.0</td>\n",
       "      <td>13.0</td>\n",
       "      <td>1.0</td>\n",
       "    </tr>\n",
       "    <tr>\n",
       "      <th>SRR13726578</th>\n",
       "      <td>1.0</td>\n",
       "      <td>12.0</td>\n",
       "      <td>0.0</td>\n",
       "    </tr>\n",
       "    <tr>\n",
       "      <th>SRR13999918</th>\n",
       "      <td>1.0</td>\n",
       "      <td>11.0</td>\n",
       "      <td>0.0</td>\n",
       "    </tr>\n",
       "    <tr>\n",
       "      <th>SRR13726561</th>\n",
       "      <td>1.0</td>\n",
       "      <td>11.0</td>\n",
       "      <td>2.0</td>\n",
       "    </tr>\n",
       "    <tr>\n",
       "      <th>SRR13999995</th>\n",
       "      <td>1.0</td>\n",
       "      <td>11.0</td>\n",
       "      <td>0.0</td>\n",
       "    </tr>\n",
       "    <tr>\n",
       "      <th>SRR13725706</th>\n",
       "      <td>1.0</td>\n",
       "      <td>9.0</td>\n",
       "      <td>0.0</td>\n",
       "    </tr>\n",
       "    <tr>\n",
       "      <th>SRR14000592</th>\n",
       "      <td>3.0</td>\n",
       "      <td>9.0</td>\n",
       "      <td>2.0</td>\n",
       "    </tr>\n",
       "    <tr>\n",
       "      <th>SRR13712371</th>\n",
       "      <td>1.0</td>\n",
       "      <td>8.0</td>\n",
       "      <td>4.0</td>\n",
       "    </tr>\n",
       "    <tr>\n",
       "      <th>SRR13727002</th>\n",
       "      <td>1.0</td>\n",
       "      <td>8.0</td>\n",
       "      <td>2.0</td>\n",
       "    </tr>\n",
       "    <tr>\n",
       "      <th>SRR13999953</th>\n",
       "      <td>1.0</td>\n",
       "      <td>8.0</td>\n",
       "      <td>0.0</td>\n",
       "    </tr>\n",
       "    <tr>\n",
       "      <th>SRR13726569</th>\n",
       "      <td>1.0</td>\n",
       "      <td>7.0</td>\n",
       "      <td>1.0</td>\n",
       "    </tr>\n",
       "    <tr>\n",
       "      <th>SRR13712383</th>\n",
       "      <td>2.0</td>\n",
       "      <td>7.0</td>\n",
       "      <td>3.0</td>\n",
       "    </tr>\n",
       "    <tr>\n",
       "      <th>SRR13727000</th>\n",
       "      <td>1.0</td>\n",
       "      <td>7.0</td>\n",
       "      <td>1.0</td>\n",
       "    </tr>\n",
       "    <tr>\n",
       "      <th>SRR13726557</th>\n",
       "      <td>1.0</td>\n",
       "      <td>6.0</td>\n",
       "      <td>3.0</td>\n",
       "    </tr>\n",
       "    <tr>\n",
       "      <th>SRR13712375</th>\n",
       "      <td>1.0</td>\n",
       "      <td>6.0</td>\n",
       "      <td>5.0</td>\n",
       "    </tr>\n",
       "    <tr>\n",
       "      <th>SRR13712391</th>\n",
       "      <td>1.0</td>\n",
       "      <td>6.0</td>\n",
       "      <td>3.0</td>\n",
       "    </tr>\n",
       "    <tr>\n",
       "      <th>SRR13725714</th>\n",
       "      <td>1.0</td>\n",
       "      <td>6.0</td>\n",
       "      <td>0.0</td>\n",
       "    </tr>\n",
       "    <tr>\n",
       "      <th>SRR13727003</th>\n",
       "      <td>1.0</td>\n",
       "      <td>6.0</td>\n",
       "      <td>2.0</td>\n",
       "    </tr>\n",
       "    <tr>\n",
       "      <th>SRR13726564</th>\n",
       "      <td>1.0</td>\n",
       "      <td>5.0</td>\n",
       "      <td>0.0</td>\n",
       "    </tr>\n",
       "    <tr>\n",
       "      <th>SRR14000598</th>\n",
       "      <td>1.0</td>\n",
       "      <td>5.0</td>\n",
       "      <td>0.0</td>\n",
       "    </tr>\n",
       "    <tr>\n",
       "      <th>SRR13999996</th>\n",
       "      <td>1.0</td>\n",
       "      <td>4.0</td>\n",
       "      <td>1.0</td>\n",
       "    </tr>\n",
       "    <tr>\n",
       "      <th>SRR13999990</th>\n",
       "      <td>1.0</td>\n",
       "      <td>4.0</td>\n",
       "      <td>0.0</td>\n",
       "    </tr>\n",
       "    <tr>\n",
       "      <th>SRR13726512</th>\n",
       "      <td>1.0</td>\n",
       "      <td>4.0</td>\n",
       "      <td>2.0</td>\n",
       "    </tr>\n",
       "    <tr>\n",
       "      <th>SRR13712366</th>\n",
       "      <td>1.0</td>\n",
       "      <td>3.0</td>\n",
       "      <td>3.0</td>\n",
       "    </tr>\n",
       "    <tr>\n",
       "      <th>SRR13726589</th>\n",
       "      <td>1.0</td>\n",
       "      <td>3.0</td>\n",
       "      <td>1.0</td>\n",
       "    </tr>\n",
       "    <tr>\n",
       "      <th>SRR13712379</th>\n",
       "      <td>1.0</td>\n",
       "      <td>3.0</td>\n",
       "      <td>3.0</td>\n",
       "    </tr>\n",
       "    <tr>\n",
       "      <th>SRR13999994</th>\n",
       "      <td>1.0</td>\n",
       "      <td>3.0</td>\n",
       "      <td>1.0</td>\n",
       "    </tr>\n",
       "    <tr>\n",
       "      <th>SRR13712518</th>\n",
       "      <td>1.0</td>\n",
       "      <td>2.0</td>\n",
       "      <td>0.0</td>\n",
       "    </tr>\n",
       "    <tr>\n",
       "      <th>SRR14000004</th>\n",
       "      <td>1.0</td>\n",
       "      <td>2.0</td>\n",
       "      <td>0.0</td>\n",
       "    </tr>\n",
       "    <tr>\n",
       "      <th>SRR13726536</th>\n",
       "      <td>1.0</td>\n",
       "      <td>2.0</td>\n",
       "      <td>2.0</td>\n",
       "    </tr>\n",
       "    <tr>\n",
       "      <th>SRR13999940</th>\n",
       "      <td>1.0</td>\n",
       "      <td>2.0</td>\n",
       "      <td>1.0</td>\n",
       "    </tr>\n",
       "    <tr>\n",
       "      <th>SRR13712361</th>\n",
       "      <td>1.0</td>\n",
       "      <td>2.0</td>\n",
       "      <td>1.0</td>\n",
       "    </tr>\n",
       "    <tr>\n",
       "      <th>SRR13726594</th>\n",
       "      <td>1.0</td>\n",
       "      <td>1.0</td>\n",
       "      <td>2.0</td>\n",
       "    </tr>\n",
       "    <tr>\n",
       "      <th>SRR13726587</th>\n",
       "      <td>1.0</td>\n",
       "      <td>1.0</td>\n",
       "      <td>1.0</td>\n",
       "    </tr>\n",
       "    <tr>\n",
       "      <th>SRR13727034</th>\n",
       "      <td>1.0</td>\n",
       "      <td>1.0</td>\n",
       "      <td>1.0</td>\n",
       "    </tr>\n",
       "    <tr>\n",
       "      <th>SRR14000018</th>\n",
       "      <td>1.0</td>\n",
       "      <td>0.0</td>\n",
       "      <td>1.0</td>\n",
       "    </tr>\n",
       "    <tr>\n",
       "      <th>SRR13999937</th>\n",
       "      <td>1.0</td>\n",
       "      <td>0.0</td>\n",
       "      <td>1.0</td>\n",
       "    </tr>\n",
       "    <tr>\n",
       "      <th>SRR13725701</th>\n",
       "      <td>1.0</td>\n",
       "      <td>0.0</td>\n",
       "      <td>1.0</td>\n",
       "    </tr>\n",
       "    <tr>\n",
       "      <th>SRR13726504</th>\n",
       "      <td>1.0</td>\n",
       "      <td>0.0</td>\n",
       "      <td>1.0</td>\n",
       "    </tr>\n",
       "    <tr>\n",
       "      <th>SRR13727026</th>\n",
       "      <td>1.0</td>\n",
       "      <td>0.0</td>\n",
       "      <td>1.0</td>\n",
       "    </tr>\n",
       "    <tr>\n",
       "      <th>SRR13727025</th>\n",
       "      <td>1.0</td>\n",
       "      <td>0.0</td>\n",
       "      <td>1.0</td>\n",
       "    </tr>\n",
       "    <tr>\n",
       "      <th>SRR13999931</th>\n",
       "      <td>1.0</td>\n",
       "      <td>0.0</td>\n",
       "      <td>2.0</td>\n",
       "    </tr>\n",
       "    <tr>\n",
       "      <th>SRR13712384</th>\n",
       "      <td>1.0</td>\n",
       "      <td>0.0</td>\n",
       "      <td>0.0</td>\n",
       "    </tr>\n",
       "    <tr>\n",
       "      <th>SRR14000005</th>\n",
       "      <td>1.0</td>\n",
       "      <td>0.0</td>\n",
       "      <td>1.0</td>\n",
       "    </tr>\n",
       "  </tbody>\n",
       "</table>\n",
       "</div>"
      ],
      "text/plain": [
       "             chromosome  ambiguous  plasmid\n",
       "SRR14000614         2.0       80.0      1.0\n",
       "SRR14024961         0.0       69.0      0.0\n",
       "SRR13726590         2.0       64.0      3.0\n",
       "SRR13727011         1.0       63.0      0.0\n",
       "SRR13726582         1.0       49.0      2.0\n",
       "SRR13999927         2.0       46.0      1.0\n",
       "SRR13726551         1.0       44.0      0.0\n",
       "SRR13999934         2.0       39.0      4.0\n",
       "SRR13727008         4.0       29.0      1.0\n",
       "SRR14000594         1.0       24.0      1.0\n",
       "SRR13712363         3.0       22.0      1.0\n",
       "SRR13725703         1.0       21.0      0.0\n",
       "SRR13726554         1.0       20.0      1.0\n",
       "SRR13712377         1.0       16.0      0.0\n",
       "SRR13725727         1.0       15.0      1.0\n",
       "SRR14000019         1.0       15.0      0.0\n",
       "SRR13726529         1.0       13.0      1.0\n",
       "SRR13726578         1.0       12.0      0.0\n",
       "SRR13999918         1.0       11.0      0.0\n",
       "SRR13726561         1.0       11.0      2.0\n",
       "SRR13999995         1.0       11.0      0.0\n",
       "SRR13725706         1.0        9.0      0.0\n",
       "SRR14000592         3.0        9.0      2.0\n",
       "SRR13712371         1.0        8.0      4.0\n",
       "SRR13727002         1.0        8.0      2.0\n",
       "SRR13999953         1.0        8.0      0.0\n",
       "SRR13726569         1.0        7.0      1.0\n",
       "SRR13712383         2.0        7.0      3.0\n",
       "SRR13727000         1.0        7.0      1.0\n",
       "SRR13726557         1.0        6.0      3.0\n",
       "SRR13712375         1.0        6.0      5.0\n",
       "SRR13712391         1.0        6.0      3.0\n",
       "SRR13725714         1.0        6.0      0.0\n",
       "SRR13727003         1.0        6.0      2.0\n",
       "SRR13726564         1.0        5.0      0.0\n",
       "SRR14000598         1.0        5.0      0.0\n",
       "SRR13999996         1.0        4.0      1.0\n",
       "SRR13999990         1.0        4.0      0.0\n",
       "SRR13726512         1.0        4.0      2.0\n",
       "SRR13712366         1.0        3.0      3.0\n",
       "SRR13726589         1.0        3.0      1.0\n",
       "SRR13712379         1.0        3.0      3.0\n",
       "SRR13999994         1.0        3.0      1.0\n",
       "SRR13712518         1.0        2.0      0.0\n",
       "SRR14000004         1.0        2.0      0.0\n",
       "SRR13726536         1.0        2.0      2.0\n",
       "SRR13999940         1.0        2.0      1.0\n",
       "SRR13712361         1.0        2.0      1.0\n",
       "SRR13726594         1.0        1.0      2.0\n",
       "SRR13726587         1.0        1.0      1.0\n",
       "SRR13727034         1.0        1.0      1.0\n",
       "SRR14000018         1.0        0.0      1.0\n",
       "SRR13999937         1.0        0.0      1.0\n",
       "SRR13725701         1.0        0.0      1.0\n",
       "SRR13726504         1.0        0.0      1.0\n",
       "SRR13727026         1.0        0.0      1.0\n",
       "SRR13727025         1.0        0.0      1.0\n",
       "SRR13999931         1.0        0.0      2.0\n",
       "SRR13712384         1.0        0.0      0.0\n",
       "SRR14000005         1.0        0.0      1.0"
      ]
     },
     "execution_count": 86,
     "metadata": {},
     "output_type": "execute_result"
    }
   ],
   "source": [
    "EFAECALIS_CONTIGS_GROUPED"
   ]
  },
  {
   "cell_type": "markdown",
   "metadata": {},
   "source": [
    "#### Summary\n",
    "\n",
    "We summarize before presenting a similar analysis for the *E. faecium* samples, that draws the same conclusion.\n",
    "\n",
    "Despite using long reads, the assemblies we are provided with are characterized by a large number of short linear contigs. Our current labelling method, that defines the ground truth we rely on to evaluate the accuracy of plasmid prediction methods, labels such contigs as *ambiguous*. \n",
    "We need\n",
    "- either to define how ambiguous contigs are handled when we evaluate a method,\n",
    "- or to be mre precise in identifying in hybrid assemblies which contigs are trule plasmid contigs.\n",
    "\n",
    "\n",
    "The table above shows that the issue is across the whole dataset and can not be fixed by discarding  few samples.\n",
    "The fact there are only 24 isolates with a large circular chromosome corresponbding to a full assembly of the chromosome rules out that we can improve significantly the issue described above by refining the labellinbg method in such cases (in which we could consider all other contigs as plasmids)."
   ]
  },
  {
   "cell_type": "markdown",
   "metadata": {},
   "source": [
    "### E. faecium\n",
    "\n",
    "We present our analysis of the *E. faecium* isolates. (Contig refer to hybrid contigs.)"
   ]
  },
  {
   "cell_type": "markdown",
   "metadata": {},
   "source": [
    "##### Statistics on isolates and contigs"
   ]
  },
  {
   "cell_type": "code",
   "execution_count": 69,
   "metadata": {},
   "outputs": [],
   "source": [
    "# Reading hybrid contigs details.\n",
    "EFAECIUM_CONTIGS = pd.read_csv('ctg_details_Efaecium.csv')\n",
    "EFAECIUM_CONTIGS_NB = len(EFAECIUM_CONTIGS)\n",
    "EFAECIUM_NB_SAMPLES = len(EFAECIUM_CONTIGS['SRA'].value_counts())\n",
    "# Plasmid contigs\n",
    "EFAECIUM_PLASMIDS = EFAECIUM_CONTIGS[(EFAECIUM_CONTIGS['classification'] == 'plasmid')]\n",
    "EFAECIUM_NB_PLASMIDS = EFAECIUM_PLASMIDS.shape[0]\n",
    "EFAECIUM_NB_PLASMIDS_SAMPLES = len(EFAECIUM_PLASMIDS['SRA'].value_counts())"
   ]
  },
  {
   "cell_type": "code",
   "execution_count": 70,
   "metadata": {},
   "outputs": [
    {
     "name": "stdout",
     "output_type": "stream",
     "text": [
      "The total number of E. faecium isolates is 71 and of contigs over all isolates is 3538\n",
      "The number of contigs labelled as plasmid over all isolates is 174\n",
      "The number of samples with no contig labelled as plasmid is 12\n"
     ]
    }
   ],
   "source": [
    "print(f'The total number of E. faecium isolates is {EFAECIUM_NB_SAMPLES} and of contigs over all isolates is {EFAECIUM_CONTIGS_NB}')\n",
    "print(f'The number of contigs labelled as plasmid over all isolates is {EFAECIUM_NB_PLASMIDS}')\n",
    "print(f'The number of samples with no contig labelled as plasmid is {EFAECIUM_NB_SAMPLES-EFAECIUM_NB_PLASMIDS_SAMPLES}')"
   ]
  },
  {
   "cell_type": "markdown",
   "metadata": {},
   "source": [
    "##### Length distribution of circular contigs"
   ]
  },
  {
   "cell_type": "code",
   "execution_count": 71,
   "metadata": {},
   "outputs": [],
   "source": [
    "CIRCULAR_CONTIGS = EFAECIUM_CONTIGS[(EFAECIUM_CONTIGS['circularity'] == 1)]\n",
    "CIRCULAR_CONTIGS_CHROM = CIRCULAR_CONTIGS[CIRCULAR_CONTIGS['classification'] == 'chromosome']\n",
    "CIRCULAR_CONTIGS_PLASMIDS = CIRCULAR_CONTIGS[CIRCULAR_CONTIGS['classification'] == 'plasmid']"
   ]
  },
  {
   "cell_type": "code",
   "execution_count": 72,
   "metadata": {},
   "outputs": [
    {
     "data": {
      "image/png": "[encoded data removed]",
      "text/plain": [
       "<Figure size 720x288 with 1 Axes>"
      ]
     },
     "metadata": {
      "needs_background": "light"
     },
     "output_type": "display_data"
    }
   ],
   "source": [
    "figure5 = CIRCULAR_CONTIGS.hist(column=[\"contig_length\"], bins=40, figsize=(10,4))\n",
    "plt.title('Length of hybrid circular contigs', fontsize=15)\n",
    "plt.xlabel('Hybrid circular contig length')\n",
    "plt.ylabel('Frequency')\n",
    "plt.grid()\n",
    "plt.show()"
   ]
  },
  {
   "cell_type": "markdown",
   "metadata": {},
   "source": [
    "As with E. faecalis, the choice for L is left unclear. We choose a small value of L = 300000."
   ]
  },
  {
   "cell_type": "code",
   "execution_count": 73,
   "metadata": {},
   "outputs": [],
   "source": [
    "EFAECIUM_THRESHOLD = 300000"
   ]
  },
  {
   "cell_type": "code",
   "execution_count": 74,
   "metadata": {},
   "outputs": [
    {
     "name": "stdout",
     "output_type": "stream",
     "text": [
      "Over all E. faecium isolates there are 187 circular contigs\n",
      "  13 are classified as chromosome\n",
      "  174 are classified as plasmid\n"
     ]
    }
   ],
   "source": [
    "print(f'Over all E. faecium isolates there are {len(CIRCULAR_CONTIGS)} circular contigs')\n",
    "print(f'  {len(CIRCULAR_CONTIGS_CHROM)} are classified as chromosome')\n",
    "print(f'  {len(CIRCULAR_CONTIGS_PLASMIDS)} are classified as plasmid')"
   ]
  },
  {
   "cell_type": "markdown",
   "metadata": {},
   "source": [
    "E. faecium shows the same trend as E. faecalis. The number of chromosome contigs is very small compared to the total number of isolates indicating that not all chromosomes are not fully assembled. "
   ]
  },
  {
   "cell_type": "markdown",
   "metadata": {},
   "source": [
    "##### Hybrid contigs classified as plasmids"
   ]
  },
  {
   "cell_type": "code",
   "execution_count": 75,
   "metadata": {},
   "outputs": [
    {
     "data": {
      "image/png": "[encoded data removed]",
      "text/plain": [
       "<Figure size 720x360 with 1 Axes>"
      ]
     },
     "metadata": {
      "needs_background": "light"
     },
     "output_type": "display_data"
    }
   ],
   "source": [
    "# Number of hybrid plasmid ontigs per isolate with at least one\n",
    "EFAECIUM_PLASMIDS_CTGS_labels, EFAECIUM_PLASMIDS_CTGS_counts = np.unique(EFAECIUM_PLASMIDS['SRA'].value_counts(), return_counts=True)\n",
    "figure6 = plt.figure(figsize=(10,5))\n",
    "plt.title('E. Faecium: distribution of the number of hybrid plasmid contigs per isolate', fontsize=15)\n",
    "plt.xlabel('Number of hybrid plasmid contigs')\n",
    "plt.ylabel('Number of isolates')\n",
    "plt.bar(EFAECIUM_PLASMIDS_CTGS_labels, EFAECIUM_PLASMIDS_CTGS_counts, align='center', width=0.3)\n",
    "plt.grid()\n",
    "plt.gca().set_xticks(EFAECIUM_PLASMIDS_CTGS_labels)\n",
    "plt.show()"
   ]
  },
  {
   "cell_type": "markdown",
   "metadata": {},
   "source": [
    "##### Distribution of contig lengths per label\n",
    "\n",
    "We now look at the three classes of contigs (plasmid, chromsome and ambiguous) for E. faecium isolates."
   ]
  },
  {
   "cell_type": "code",
   "execution_count": 76,
   "metadata": {},
   "outputs": [],
   "source": [
    "#Re-assigning labels to non-circular contigs smaller than the threshold as 'ambiguous'\n",
    "for i, row in EFAECIUM_CONTIGS.iterrows():\n",
    "    if (EFAECIUM_CONTIGS.loc[i,'classification'] == 'chromosome') & (EFAECIUM_CONTIGS.loc[i,'contig_length'] <= 300000):\n",
    "        EFAECIUM_CONTIGS.at[i,'classification'] = 'ambiguous'"
   ]
  },
  {
   "cell_type": "code",
   "execution_count": 77,
   "metadata": {},
   "outputs": [
    {
     "name": "stdout",
     "output_type": "stream",
     "text": [
      "Number of chromosome contigs: 174\n",
      "Number of plasmid contigs: 114\n",
      "Number of ambiguous contigs: 3250\n"
     ]
    }
   ],
   "source": [
    "EFAECIUM_PLASMID_NB = EFAECIUM_CONTIGS[EFAECIUM_CONTIGS['classification'] == 'chromosome'].shape[0]\n",
    "EFAECIUM_CHROM_NB = EFAECIUM_CONTIGS[EFAECIUM_CONTIGS['classification'] == 'plasmid'].shape[0]\n",
    "EFAECIUM_AMBIG_NB = EFAECIUM_CONTIGS[EFAECIUM_CONTIGS['classification'] == 'ambiguous'].shape[0]\n",
    "print(f'Number of chromosome contigs: {EFAECIUM_CHROM_NB}')\n",
    "print(f'Number of plasmid contigs: {EFAECIUM_PLASMID_NB}')\n",
    "print(f'Number of ambiguous contigs: {EFAECIUM_AMBIG_NB}')"
   ]
  },
  {
   "cell_type": "code",
   "execution_count": 78,
   "metadata": {},
   "outputs": [
    {
     "name": "stdout",
     "output_type": "stream",
     "text": [
      "Hybrid contig length distribution per class\n"
     ]
    },
    {
     "data": {
      "image/png": "[encoded data removed]",
      "text/plain": [
       "<Figure size 1440x864 with 4 Axes>"
      ]
     },
     "metadata": {
      "needs_background": "light"
     },
     "output_type": "display_data"
    }
   ],
   "source": [
    "EFAECIUM_CONTIGS_LEN = EFAECIUM_CONTIGS[['contig_length','classification']]\n",
    "print(f'Hybrid contig length distribution per class')\n",
    "figure7 = EFAECIUM_CONTIGS_LEN.hist(by=\"classification\", bins=40, figsize=(20, 12))"
   ]
  },
  {
   "cell_type": "code",
   "execution_count": 79,
   "metadata": {},
   "outputs": [
    {
     "name": "stdout",
     "output_type": "stream",
     "text": [
      "3424 out of 3538 contigs are under 300000 bp in length and 3250 of these contigs have been classified as ambiguous.\n"
     ]
    }
   ],
   "source": [
    "nb_short_contigs = len(EFAECIUM_CONTIGS[(EFAECIUM_CONTIGS[\"contig_length\"] <= EFAECIUM_THRESHOLD)])\n",
    "nb_short_ambig_contigs = len(EFAECIUM_CONTIGS[(EFAECIUM_CONTIGS[\"contig_length\"] <= EFAECIUM_THRESHOLD) & (EFAECIUM_CONTIGS['classification'] == 'ambiguous')])\n",
    "print(f'{nb_short_contigs} out of {EFAECIUM_CONTIGS_NB} contigs are under {EFAECIUM_THRESHOLD} bp in length and {nb_short_ambig_contigs} of these contigs have been classified as ambiguous.')"
   ]
  },
  {
   "cell_type": "markdown",
   "metadata": {},
   "source": [
    "All of the ambiguous and plasmid contigs are shorter than 150000 bp. This indicates a strong separation between ambiguous/plasmid and chromosome contigs, with the chosen threshold (300000bp). However, it is unclear if ambiguous contigs are  fragments of chromosomes or should be considered independent plasmids."
   ]
  },
  {
   "cell_type": "code",
   "execution_count": 80,
   "metadata": {},
   "outputs": [
    {
     "data": {
      "image/png": "[encoded data removed]",
      "text/plain": [
       "<Figure size 1440x504 with 1 Axes>"
      ]
     },
     "metadata": {
      "needs_background": "light"
     },
     "output_type": "display_data"
    }
   ],
   "source": [
    "EFAECIUM_CHR_BY_THRESHOLD, EFAECIUM_PLS_BY_THRESHOLD, EFAECIUM_AMB_BY_THRESHOLD = np.empty(20),np.empty(20),np.empty(20) \n",
    "\n",
    "for i in range(len(THRESHOLDS)):\n",
    "    L = THRESHOLDS[i]\n",
    "    CHR_NB, PLS_NB, AMB_NB = split_by_threshold(L, EFAECIUM_CONTIGS)\n",
    "    EFAECIUM_CHR_BY_THRESHOLD[i] = CHR_NB \n",
    "    EFAECIUM_PLS_BY_THRESHOLD[i] = PLS_NB\n",
    "    EFAECIUM_AMB_BY_THRESHOLD[i] = AMB_NB\n",
    "THR_LIST = [str(x) for x in THRESHOLDS]\n",
    "\n",
    "figure3 = plt.figure(figsize=(20,7))\n",
    "plt.bar(THR_LIST, EFAECIUM_CHR_BY_THRESHOLD, color='r')\n",
    "plt.bar(THR_LIST, EFAECIUM_PLS_BY_THRESHOLD, bottom=EFAECIUM_CHR_BY_THRESHOLD, color='b')\n",
    "plt.bar(THR_LIST, EFAECIUM_AMB_BY_THRESHOLD, bottom=EFAECIUM_CHR_BY_THRESHOLD+EFAECIUM_PLS_BY_THRESHOLD, color='y')\n",
    "\n",
    "plt.xlabel(\"Length threshold (bp)\",fontsize=15)\n",
    "plt.ylabel(\"Number of contigs\",fontsize=15)\n",
    "plt.legend([\"Chromosome\", \"Plasmid\", \"Ambiguous\"],fontsize=10)\n",
    "plt.title(\"Contigs labelled as chromosomes, plasmids and ambiguous by length threshold\",fontsize=15)\n",
    "plt.show()"
   ]
  },
  {
   "cell_type": "markdown",
   "metadata": {},
   "source": [
    "#### Landscape of contigs distribution"
   ]
  },
  {
   "cell_type": "code",
   "execution_count": 87,
   "metadata": {},
   "outputs": [],
   "source": [
    "EFAECIUM_CONTIGS_GROUPED_DICT = {}\n",
    "for idx, row in EFAECIUM_CONTIGS.iterrows():\n",
    "    EFAECIUM_CONTIGS_GROUPED_DICT[row['SRA']] = defaultdict(int)\n",
    "for idx, row in EFAECIUM_CONTIGS.iterrows():\n",
    "    EFAECIUM_CONTIGS_GROUPED_DICT[row['SRA']][row['classification']] += 1\n",
    "EFAECIUM_CONTIGS_GROUPED = pd.DataFrame.from_dict(EFAECIUM_CONTIGS_GROUPED_DICT, orient='index').fillna(0)\n",
    "EFAECIUM_CONTIGS_GROUPED.sort_values('ambiguous', inplace=True, ascending=False)"
   ]
  },
  {
   "cell_type": "code",
   "execution_count": 88,
   "metadata": {},
   "outputs": [
    {
     "name": "stdout",
     "output_type": "stream",
     "text": [
      "First 50 E. faecium samples\n"
     ]
    },
    {
     "data": {
      "text/html": [
       "<div>\n",
       "<style scoped>\n",
       "    .dataframe tbody tr th:only-of-type {\n",
       "        vertical-align: middle;\n",
       "    }\n",
       "\n",
       "    .dataframe tbody tr th {\n",
       "        vertical-align: top;\n",
       "    }\n",
       "\n",
       "    .dataframe thead th {\n",
       "        text-align: right;\n",
       "    }\n",
       "</style>\n",
       "<table border=\"1\" class=\"dataframe\">\n",
       "  <thead>\n",
       "    <tr style=\"text-align: right;\">\n",
       "      <th></th>\n",
       "      <th>chromosome</th>\n",
       "      <th>ambiguous</th>\n",
       "      <th>plasmid</th>\n",
       "    </tr>\n",
       "  </thead>\n",
       "  <tbody>\n",
       "    <tr>\n",
       "      <th>SRR14022764</th>\n",
       "      <td>1.0</td>\n",
       "      <td>237.0</td>\n",
       "      <td>0.0</td>\n",
       "    </tr>\n",
       "    <tr>\n",
       "      <th>SRR14010969</th>\n",
       "      <td>0.0</td>\n",
       "      <td>184.0</td>\n",
       "      <td>4.0</td>\n",
       "    </tr>\n",
       "    <tr>\n",
       "      <th>SRR14011002</th>\n",
       "      <td>0.0</td>\n",
       "      <td>173.0</td>\n",
       "      <td>4.0</td>\n",
       "    </tr>\n",
       "    <tr>\n",
       "      <th>SRR14026515</th>\n",
       "      <td>0.0</td>\n",
       "      <td>170.0</td>\n",
       "      <td>2.0</td>\n",
       "    </tr>\n",
       "    <tr>\n",
       "      <th>SRR14010946</th>\n",
       "      <td>0.0</td>\n",
       "      <td>167.0</td>\n",
       "      <td>2.0</td>\n",
       "    </tr>\n",
       "    <tr>\n",
       "      <th>SRR14011041</th>\n",
       "      <td>0.0</td>\n",
       "      <td>166.0</td>\n",
       "      <td>3.0</td>\n",
       "    </tr>\n",
       "    <tr>\n",
       "      <th>SRR14010961</th>\n",
       "      <td>1.0</td>\n",
       "      <td>148.0</td>\n",
       "      <td>3.0</td>\n",
       "    </tr>\n",
       "    <tr>\n",
       "      <th>SRR14022770</th>\n",
       "      <td>0.0</td>\n",
       "      <td>143.0</td>\n",
       "      <td>0.0</td>\n",
       "    </tr>\n",
       "    <tr>\n",
       "      <th>SRR14022782</th>\n",
       "      <td>2.0</td>\n",
       "      <td>129.0</td>\n",
       "      <td>1.0</td>\n",
       "    </tr>\n",
       "    <tr>\n",
       "      <th>SRR14026532</th>\n",
       "      <td>0.0</td>\n",
       "      <td>128.0</td>\n",
       "      <td>0.0</td>\n",
       "    </tr>\n",
       "    <tr>\n",
       "      <th>SRR14022776</th>\n",
       "      <td>2.0</td>\n",
       "      <td>124.0</td>\n",
       "      <td>0.0</td>\n",
       "    </tr>\n",
       "    <tr>\n",
       "      <th>SRR14010955</th>\n",
       "      <td>1.0</td>\n",
       "      <td>101.0</td>\n",
       "      <td>5.0</td>\n",
       "    </tr>\n",
       "    <tr>\n",
       "      <th>SRR14026537</th>\n",
       "      <td>2.0</td>\n",
       "      <td>94.0</td>\n",
       "      <td>3.0</td>\n",
       "    </tr>\n",
       "    <tr>\n",
       "      <th>SRR14024950</th>\n",
       "      <td>2.0</td>\n",
       "      <td>90.0</td>\n",
       "      <td>0.0</td>\n",
       "    </tr>\n",
       "    <tr>\n",
       "      <th>SRR14026549</th>\n",
       "      <td>0.0</td>\n",
       "      <td>79.0</td>\n",
       "      <td>0.0</td>\n",
       "    </tr>\n",
       "    <tr>\n",
       "      <th>SRR14011022</th>\n",
       "      <td>4.0</td>\n",
       "      <td>69.0</td>\n",
       "      <td>4.0</td>\n",
       "    </tr>\n",
       "    <tr>\n",
       "      <th>SRR14010981</th>\n",
       "      <td>2.0</td>\n",
       "      <td>59.0</td>\n",
       "      <td>4.0</td>\n",
       "    </tr>\n",
       "    <tr>\n",
       "      <th>SRR14011043</th>\n",
       "      <td>3.0</td>\n",
       "      <td>53.0</td>\n",
       "      <td>3.0</td>\n",
       "    </tr>\n",
       "    <tr>\n",
       "      <th>SRR14024983</th>\n",
       "      <td>2.0</td>\n",
       "      <td>51.0</td>\n",
       "      <td>2.0</td>\n",
       "    </tr>\n",
       "    <tr>\n",
       "      <th>SRR14011035</th>\n",
       "      <td>4.0</td>\n",
       "      <td>49.0</td>\n",
       "      <td>5.0</td>\n",
       "    </tr>\n",
       "    <tr>\n",
       "      <th>SRR14010965</th>\n",
       "      <td>5.0</td>\n",
       "      <td>48.0</td>\n",
       "      <td>3.0</td>\n",
       "    </tr>\n",
       "    <tr>\n",
       "      <th>SRR14026517</th>\n",
       "      <td>2.0</td>\n",
       "      <td>42.0</td>\n",
       "      <td>5.0</td>\n",
       "    </tr>\n",
       "    <tr>\n",
       "      <th>SRR14010950</th>\n",
       "      <td>4.0</td>\n",
       "      <td>42.0</td>\n",
       "      <td>2.0</td>\n",
       "    </tr>\n",
       "    <tr>\n",
       "      <th>SRR14026545</th>\n",
       "      <td>3.0</td>\n",
       "      <td>41.0</td>\n",
       "      <td>0.0</td>\n",
       "    </tr>\n",
       "    <tr>\n",
       "      <th>SRR14022735</th>\n",
       "      <td>2.0</td>\n",
       "      <td>39.0</td>\n",
       "      <td>1.0</td>\n",
       "    </tr>\n",
       "    <tr>\n",
       "      <th>SRR14010988</th>\n",
       "      <td>4.0</td>\n",
       "      <td>34.0</td>\n",
       "      <td>7.0</td>\n",
       "    </tr>\n",
       "    <tr>\n",
       "      <th>SRR14010953</th>\n",
       "      <td>2.0</td>\n",
       "      <td>33.0</td>\n",
       "      <td>4.0</td>\n",
       "    </tr>\n",
       "    <tr>\n",
       "      <th>SRR14026530</th>\n",
       "      <td>2.0</td>\n",
       "      <td>32.0</td>\n",
       "      <td>4.0</td>\n",
       "    </tr>\n",
       "    <tr>\n",
       "      <th>SRR14026535</th>\n",
       "      <td>2.0</td>\n",
       "      <td>30.0</td>\n",
       "      <td>7.0</td>\n",
       "    </tr>\n",
       "    <tr>\n",
       "      <th>SRR14010933</th>\n",
       "      <td>3.0</td>\n",
       "      <td>29.0</td>\n",
       "      <td>4.0</td>\n",
       "    </tr>\n",
       "    <tr>\n",
       "      <th>SRR14026552</th>\n",
       "      <td>3.0</td>\n",
       "      <td>28.0</td>\n",
       "      <td>2.0</td>\n",
       "    </tr>\n",
       "    <tr>\n",
       "      <th>SRR14011003</th>\n",
       "      <td>4.0</td>\n",
       "      <td>27.0</td>\n",
       "      <td>5.0</td>\n",
       "    </tr>\n",
       "    <tr>\n",
       "      <th>SRR14010983</th>\n",
       "      <td>3.0</td>\n",
       "      <td>26.0</td>\n",
       "      <td>4.0</td>\n",
       "    </tr>\n",
       "    <tr>\n",
       "      <th>SRR14026514</th>\n",
       "      <td>3.0</td>\n",
       "      <td>26.0</td>\n",
       "      <td>2.0</td>\n",
       "    </tr>\n",
       "    <tr>\n",
       "      <th>SRR14024951</th>\n",
       "      <td>1.0</td>\n",
       "      <td>26.0</td>\n",
       "      <td>1.0</td>\n",
       "    </tr>\n",
       "    <tr>\n",
       "      <th>SRR14010971</th>\n",
       "      <td>1.0</td>\n",
       "      <td>23.0</td>\n",
       "      <td>6.0</td>\n",
       "    </tr>\n",
       "    <tr>\n",
       "      <th>SRR14022763</th>\n",
       "      <td>1.0</td>\n",
       "      <td>20.0</td>\n",
       "      <td>3.0</td>\n",
       "    </tr>\n",
       "    <tr>\n",
       "      <th>SRR14011020</th>\n",
       "      <td>2.0</td>\n",
       "      <td>19.0</td>\n",
       "      <td>2.0</td>\n",
       "    </tr>\n",
       "    <tr>\n",
       "      <th>SRR14022769</th>\n",
       "      <td>1.0</td>\n",
       "      <td>18.0</td>\n",
       "      <td>4.0</td>\n",
       "    </tr>\n",
       "    <tr>\n",
       "      <th>SRR14022761</th>\n",
       "      <td>1.0</td>\n",
       "      <td>17.0</td>\n",
       "      <td>0.0</td>\n",
       "    </tr>\n",
       "    <tr>\n",
       "      <th>SRR14011039</th>\n",
       "      <td>1.0</td>\n",
       "      <td>16.0</td>\n",
       "      <td>4.0</td>\n",
       "    </tr>\n",
       "    <tr>\n",
       "      <th>SRR14026541</th>\n",
       "      <td>1.0</td>\n",
       "      <td>15.0</td>\n",
       "      <td>2.0</td>\n",
       "    </tr>\n",
       "    <tr>\n",
       "      <th>SRR14026503</th>\n",
       "      <td>2.0</td>\n",
       "      <td>14.0</td>\n",
       "      <td>1.0</td>\n",
       "    </tr>\n",
       "    <tr>\n",
       "      <th>SRR14022777</th>\n",
       "      <td>1.0</td>\n",
       "      <td>14.0</td>\n",
       "      <td>1.0</td>\n",
       "    </tr>\n",
       "    <tr>\n",
       "      <th>SRR14022778</th>\n",
       "      <td>1.0</td>\n",
       "      <td>13.0</td>\n",
       "      <td>1.0</td>\n",
       "    </tr>\n",
       "    <tr>\n",
       "      <th>SRR14011001</th>\n",
       "      <td>1.0</td>\n",
       "      <td>11.0</td>\n",
       "      <td>1.0</td>\n",
       "    </tr>\n",
       "    <tr>\n",
       "      <th>SRR14024986</th>\n",
       "      <td>1.0</td>\n",
       "      <td>11.0</td>\n",
       "      <td>2.0</td>\n",
       "    </tr>\n",
       "    <tr>\n",
       "      <th>SRR14024997</th>\n",
       "      <td>3.0</td>\n",
       "      <td>11.0</td>\n",
       "      <td>1.0</td>\n",
       "    </tr>\n",
       "    <tr>\n",
       "      <th>SRR14024963</th>\n",
       "      <td>1.0</td>\n",
       "      <td>10.0</td>\n",
       "      <td>1.0</td>\n",
       "    </tr>\n",
       "    <tr>\n",
       "      <th>SRR14024990</th>\n",
       "      <td>1.0</td>\n",
       "      <td>10.0</td>\n",
       "      <td>2.0</td>\n",
       "    </tr>\n",
       "  </tbody>\n",
       "</table>\n",
       "</div>"
      ],
      "text/plain": [
       "             chromosome  ambiguous  plasmid\n",
       "SRR14022764         1.0      237.0      0.0\n",
       "SRR14010969         0.0      184.0      4.0\n",
       "SRR14011002         0.0      173.0      4.0\n",
       "SRR14026515         0.0      170.0      2.0\n",
       "SRR14010946         0.0      167.0      2.0\n",
       "SRR14011041         0.0      166.0      3.0\n",
       "SRR14010961         1.0      148.0      3.0\n",
       "SRR14022770         0.0      143.0      0.0\n",
       "SRR14022782         2.0      129.0      1.0\n",
       "SRR14026532         0.0      128.0      0.0\n",
       "SRR14022776         2.0      124.0      0.0\n",
       "SRR14010955         1.0      101.0      5.0\n",
       "SRR14026537         2.0       94.0      3.0\n",
       "SRR14024950         2.0       90.0      0.0\n",
       "SRR14026549         0.0       79.0      0.0\n",
       "SRR14011022         4.0       69.0      4.0\n",
       "SRR14010981         2.0       59.0      4.0\n",
       "SRR14011043         3.0       53.0      3.0\n",
       "SRR14024983         2.0       51.0      2.0\n",
       "SRR14011035         4.0       49.0      5.0\n",
       "SRR14010965         5.0       48.0      3.0\n",
       "SRR14026517         2.0       42.0      5.0\n",
       "SRR14010950         4.0       42.0      2.0\n",
       "SRR14026545         3.0       41.0      0.0\n",
       "SRR14022735         2.0       39.0      1.0\n",
       "SRR14010988         4.0       34.0      7.0\n",
       "SRR14010953         2.0       33.0      4.0\n",
       "SRR14026530         2.0       32.0      4.0\n",
       "SRR14026535         2.0       30.0      7.0\n",
       "SRR14010933         3.0       29.0      4.0\n",
       "SRR14026552         3.0       28.0      2.0\n",
       "SRR14011003         4.0       27.0      5.0\n",
       "SRR14010983         3.0       26.0      4.0\n",
       "SRR14026514         3.0       26.0      2.0\n",
       "SRR14024951         1.0       26.0      1.0\n",
       "SRR14010971         1.0       23.0      6.0\n",
       "SRR14022763         1.0       20.0      3.0\n",
       "SRR14011020         2.0       19.0      2.0\n",
       "SRR14022769         1.0       18.0      4.0\n",
       "SRR14022761         1.0       17.0      0.0\n",
       "SRR14011039         1.0       16.0      4.0\n",
       "SRR14026541         1.0       15.0      2.0\n",
       "SRR14026503         2.0       14.0      1.0\n",
       "SRR14022777         1.0       14.0      1.0\n",
       "SRR14022778         1.0       13.0      1.0\n",
       "SRR14011001         1.0       11.0      1.0\n",
       "SRR14024986         1.0       11.0      2.0\n",
       "SRR14024997         3.0       11.0      1.0\n",
       "SRR14024963         1.0       10.0      1.0\n",
       "SRR14024990         1.0       10.0      2.0"
      ]
     },
     "execution_count": 88,
     "metadata": {},
     "output_type": "execute_result"
    }
   ],
   "source": [
    "print('First 50 E. faecium samples')\n",
    "EFAECIUM_CONTIGS_GROUPED.head(50)"
   ]
  },
  {
   "cell_type": "markdown",
   "metadata": {},
   "source": [
    "#### Summary\n",
    "\n",
    "Overall similar to *E. faecalis* but for a more serious issue with the number of ambiguous contigs, and some cases where the assembly is so fragmented that there are actually no contig labelled as chromosome."
   ]
  },
  {
   "cell_type": "markdown",
   "metadata": {},
   "source": [
    "## Comparison against ground truth"
   ]
  },
  {
   "cell_type": "markdown",
   "metadata": {},
   "source": [
    "We used PlasBin, HyAsP, MOB-recon and plasmidSPAdes to predict plasmids using the short read contigs and assembly graphs. Thus, we obtained plasmids as bins of short read contigs. We use hybrid contigs classified as plasmids to represent the ground truth plasmids. In order to compare the predictions against the ground truth, we obtain short read contig set representations of the hybrid contigs. We do so by mapping the short read contigs onto the hybrid contigs using minimap2. The hybrid contig mappings have been stored in the \"data/Hybrid_Contigs_Plasmids\". For each isolate, we then compare the predictions against the ground truth plasmid bins using PlasEval. We obtain a score that measures the dissimilarity between the ground truth and the predicted plasmid bins."
   ]
  },
  {
   "cell_type": "code",
   "execution_count": 91,
   "metadata": {},
   "outputs": [],
   "source": [
    "EFAECALIS_ISOLATES = pd.read_csv('isolate_details_Efaecalis.csv')\n",
    "EFAECIUM_ISOLATES = pd.read_csv('isolate_details_Efaecium.csv')"
   ]
  },
  {
   "cell_type": "markdown",
   "metadata": {},
   "source": [
    "#### E. faecalis"
   ]
  },
  {
   "cell_type": "code",
   "execution_count": 92,
   "metadata": {},
   "outputs": [],
   "source": [
    "#EFAECALIS_ISOLATES.loc[:, EFAECALIS_ISOLATES.columns != 'psp'][~EFAECALIS_ISOLATES.loc[:, EFAECALIS_ISOLATES.columns != 'psp'].isnull().any(axis=1)]"
   ]
  },
  {
   "cell_type": "code",
   "execution_count": 96,
   "metadata": {},
   "outputs": [
    {
     "data": {
      "image/png": "[encoded data removed]",
      "text/plain": [
       "<Figure size 720x720 with 1 Axes>"
      ]
     },
     "metadata": {
      "needs_background": "light"
     },
     "output_type": "display_data"
    }
   ],
   "source": [
    "plt.title('Relation between #contigs and plasmid comparison scores',fontsize=20)\n",
    "plt.xlabel('Scores',fontsize=20)\n",
    "plt.ylabel('#Contigs',fontsize=20)\n",
    "\n",
    "plt.scatter(x=EFAECALIS_ISOLATES['pb'],y=EFAECALIS_ISOLATES['nb_ctg'],color='red',label='PLASBIN')\n",
    "plt.scatter(x=EFAECALIS_ISOLATES['hy'],y=EFAECALIS_ISOLATES['nb_ctg'],color='blue',label='HYASP')\n",
    "plt.scatter(x=EFAECALIS_ISOLATES['mob'],y=EFAECALIS_ISOLATES['nb_ctg'],color='green',label='MOBRECON')\n",
    "#plt.scatter(x=EFAECALIS_ISOLATES['psp'],y=EFAECALIS_ISOLATES['nb_ctg'],color='black',label='PSPADES')\n",
    "\n",
    "plt.legend(loc='upper right',fontsize=20)\n",
    "plt.rcParams[\"figure.figsize\"] = (10,10)\n",
    "plt.tight_layout()\n",
    " \n",
    "plt.show()"
   ]
  },
  {
   "cell_type": "markdown",
   "metadata": {},
   "source": [
    "From this plot, we can see very few scores below 0.5. This suggests that the ground truth is dissimilar to the predicted plasmid bins. Furthermore, if the isolate contains more than 20 hybrid contigs, the dissimilarity score is almost always above 0.5. There is no clear indication as to which tool performs better in terms of similarity to the ground truth."
   ]
  },
  {
   "cell_type": "markdown",
   "metadata": {},
   "source": [
    "#### E. faecium"
   ]
  },
  {
   "cell_type": "code",
   "execution_count": 94,
   "metadata": {},
   "outputs": [],
   "source": [
    "#EFAECIUM_ISOLATES.loc[:, EFAECIUM_ISOLATES.columns != 'psp'][~EFAECIUM_ISOLATES.loc[:, EFAECIUM_ISOLATES.columns != 'psp'].isnull().any(axis=1)]"
   ]
  },
  {
   "cell_type": "code",
   "execution_count": 95,
   "metadata": {},
   "outputs": [
    {
     "data": {
      "image/png": "[encoded data removed]",
      "text/plain": [
       "<Figure size 720x720 with 1 Axes>"
      ]
     },
     "metadata": {
      "needs_background": "light"
     },
     "output_type": "display_data"
    }
   ],
   "source": [
    "plt.title('Relation between #contigs and plasmid comparison scores',fontsize=20)\n",
    "plt.xlabel('Scores',fontsize=20)\n",
    "plt.ylabel('#Contigs',fontsize=20)\n",
    "\n",
    "plt.scatter(x=EFAECIUM_ISOLATES['pb'],y=EFAECIUM_ISOLATES['nb_ctg'],color='red',label='PLASBIN')\n",
    "plt.scatter(x=EFAECIUM_ISOLATES['hy'],y=EFAECIUM_ISOLATES['nb_ctg'],color='blue',label='HYASP')\n",
    "plt.scatter(x=EFAECIUM_ISOLATES['mob'],y=EFAECIUM_ISOLATES['nb_ctg'],color='green',label='MOBRECON')\n",
    "#plt.scatter(x=EFAECALIS_ISOLATES['psp'],y=EFAECALIS_ISOLATES['nb_ctg'],color='black',label='PSPADES')\n",
    "\n",
    "plt.legend(loc='upper right',fontsize=20)\n",
    "plt.rcParams[\"figure.figsize\"] = (10,10)\n",
    "plt.tight_layout()\n",
    " \n",
    "plt.show()"
   ]
  },
  {
   "cell_type": "markdown",
   "metadata": {},
   "source": [
    "From this plot, we can see very few scores below 0.5. In fact, all tools consistently have predictions that have a dissimilarity score >= 0.5, with the exception of PlasBin. For isolates having more than 50 contigs, the dissimilarity score is almost always greater than 0.6. "
   ]
  },
  {
   "cell_type": "markdown",
   "metadata": {},
   "source": [
    "The high level of dissimilarity from all the tools can be explained by the lack of representation of plasmidic hybrid contigs in the dataset. It is likely that the plasmids have been fragemented into smaller linear contigs. As a result, these contigs are misclassified. This can be especially observed in isolates with high number of contigs."
   ]
  },
  {
   "cell_type": "code",
   "execution_count": null,
   "metadata": {},
   "outputs": [],
   "source": []
  }
 ],
 "metadata": {
  "kernelspec": {
   "display_name": "Python 3 (ipykernel)",
   "language": "python",
   "name": "python3"
  },
  "language_info": {
   "codemirror_mode": {
    "name": "ipython",
    "version": 3
   },
   "file_extension": ".py",
   "mimetype": "text/x-python",
   "name": "python",
   "nbconvert_exporter": "python",
   "pygments_lexer": "ipython3",
   "version": "3.9.7"
  }
 },
 "nbformat": 4,
 "nbformat_minor": 4
}
