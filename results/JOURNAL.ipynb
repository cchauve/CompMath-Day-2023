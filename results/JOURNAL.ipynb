{
 "cells": [
  {
   "cell_type": "markdown",
   "metadata": {},
   "source": [
    "# Lab notebook\n",
    "\n",
    "## Overview\n",
    "This notebook records basic analysis of the project aiming at compare the performances of HyAsP and MOB-recon on tw data sets of *E faecalis* and *E facium* samples."
   ]
  },
  {
   "cell_type": "code",
   "execution_count": 52,
   "metadata": {
    "jupyter": {
     "source_hidden": true
    },
    "tags": []
   },
   "outputs": [],
   "source": [
    "# Python packages.\n",
    "import os\n",
    "import numpy as np\n",
    "import pandas as pd\n",
    "from collections import defaultdict\n",
    "import matplotlib\n",
    "import matplotlib.pyplot as plt\n",
    "from datetime import datetime\n",
    "\n",
    "import journal_utils"
   ]
  },
  {
   "cell_type": "markdown",
   "metadata": {},
   "source": [
    "## E faecalis data, 2022-10-02\n",
    "\n",
    "The *E faecalis* data set is available at [2022-10-02_E_faecalis](../data/2022-10-02_E_faecalis/README.md).\n",
    "\n",
    "The summary files are the [list of samples](../data/2022-10-02_E_faecalis/E_faecalis_samples.txt) and the [labeling of contigs](../data/2022-10-02_E_faecalis/E_faecalis_labels.csv)."
   ]
  },
  {
   "cell_type": "code",
   "execution_count": 2,
   "metadata": {
    "tags": []
   },
   "outputs": [],
   "source": [
    "# Data set summary files\n",
    "E_faecalis_samples_file = '../data/2022-10-02_E_faecalis/E_faecalis_samples.txt'\n",
    "E_faecalis_labels_file = '../data/2022-10-02_E_faecalis/E_faecalis_labels.csv'\n",
    "\n",
    "E_faecalis_samples_list = journal_utils.samples_file2list(E_faecalis_samples_file)\n",
    "E_faecalis_labels_df = pd.read_csv(E_faecalis_labels_file)"
   ]
  },
  {
   "cell_type": "code",
   "execution_count": 3,
   "metadata": {
    "tags": []
   },
   "outputs": [
    {
     "name": "stdout",
     "output_type": "stream",
     "text": [
      "There are 56 E.faecalis samples and 60 samples from the labels file\n",
      "Samples from list but not from labels: \n",
      "Samples from labels but not from list: SRR13726590,SRR13725727,SRR13726582,SRR14024961\n"
     ]
    }
   ],
   "source": [
    "# Statsitics on samples\n",
    "E_faecalis_nb_samples_from_list = len(E_faecalis_samples_list)\n",
    "E_faecalis_samples_from_labels = list(E_faecalis_labels_df['SRA'].unique())\n",
    "E_faecalis_nb_samples_from_labels = len(E_faecalis_samples_from_labels)\n",
    "E_faecalis_samples_diff_list = journal_utils.diff_lists(E_faecalis_samples_list, E_faecalis_samples_from_labels)\n",
    "E_faecalis_samples_diff_labels = journal_utils.diff_lists(E_faecalis_samples_from_labels, E_faecalis_samples_list)\n",
    "\n",
    "print(f'There are {E_faecalis_nb_samples_from_list} E.faecalis samples and {E_faecalis_nb_samples_from_labels} samples from the labels file')\n",
    "print(f'Samples from list but not from labels: {\",\".join(E_faecalis_samples_diff_list)}')\n",
    "print(f'Samples from labels but not from list: {\",\".join(E_faecalis_samples_diff_labels)}')"
   ]
  },
  {
   "cell_type": "markdown",
   "metadata": {},
   "source": [
    "**WARNING.**\n",
    "There is an issue with the provided data as there are 4 samples that are provided with labels but are not in the list of samples for which data is available.\n",
    "\n",
    "We discard the contigs from the corresponding samples in the database of contig labels."
   ]
  },
  {
   "cell_type": "code",
   "execution_count": 26,
   "metadata": {
    "tags": []
   },
   "outputs": [],
   "source": [
    "# Discarding from the labeld dataframe rows from samples is not in the list of samples\n",
    "E_faecalis_labels_df = E_faecalis_labels_df[~E_faecalis_labels_df['SRA'].isin(E_faecalis_samples_diff_labels)]\n",
    "# Plasmid and chromosome contigs\n",
    "E_faecalis_labels_df_plasmid = E_faecalis_labels_df.loc[E_faecalis_labels_df['classification']=='plasmid']\n",
    "E_faecalis_labels_df_chromosome = E_faecalis_labels_df.loc[E_faecalis_labels_df['classification']=='chromosome']"
   ]
  },
  {
   "cell_type": "code",
   "execution_count": 36,
   "metadata": {
    "tags": []
   },
   "outputs": [
    {
     "name": "stdout",
     "output_type": "stream",
     "text": [
      "There are 751 hybrid contigs with a label.\n",
      "There are 67 plasmid hybrid contigs.\n",
      "There are 684 plasmid hybrid contigs.\n"
     ]
    }
   ],
   "source": [
    "# Statistics on contigs\n",
    "E_faecalis_nb_contigs = len(E_faecalis_labels_df.index)\n",
    "E_faecalis_nb_plasmid_contigs = len(E_faecalis_labels_df_plasmid.index)\n",
    "E_faecalis_nb_chromosome_contigs = len(E_faecalis_labels_df_chromosome.index)\n",
    "\n",
    "print(f'There are {E_faecalis_nb_contigs} hybrid contigs with a label.')\n",
    "print(f'There are {E_faecalis_nb_plasmid_contigs} plasmid hybrid contigs.')\n",
    "print(f'There are {E_faecalis_nb_chromosome_contigs} plasmid hybrid contigs.')\n",
    "\n",
    "if E_faecalis_nb_contigs != E_faecalis_nb_plasmid_contigs+E_faecalis_nb_chromosome_contigs:\n",
    "    print('WARNING: some hybrid contigs are unlabeled')"
   ]
  },
  {
   "cell_type": "markdown",
   "metadata": {},
   "source": [
    "**Comments.**\n",
    "This was a preliminary and very rough analysis of the data.\n",
    "We could do more preliminary analysis, such as the length distribution of hybrid contigs for each class (plasmid or chromosome), see below."
   ]
  },
  {
   "cell_type": "code",
   "execution_count": 25,
   "metadata": {
    "jupyter": {
     "source_hidden": true
    },
    "tags": []
   },
   "outputs": [
    {
     "data": {
      "text/plain": [
       "Text(0.5, 0.98, 'Contigs length distribution by label')"
      ]
     },
     "execution_count": 25,
     "metadata": {},
     "output_type": "execute_result"
    },
    {
     "data": {
      "text/plain": [
       "<Figure size 640x480 with 0 Axes>"
      ]
     },
     "metadata": {},
     "output_type": "display_data"
    },
    {
     "data": {
      "image/png": "[encoded data removed]",
      "text/plain": [
       "<Figure size 1600x300 with 2 Axes>"
      ]
     },
     "metadata": {},
     "output_type": "display_data"
    }
   ],
   "source": [
    "plt.figure()\n",
    "ax = E_faecalis_labels_df.plot.hist(column=['contig_length'], by='classification', figsize=(16, 3), layout=(1,2), sharey=True)\n",
    "plt.suptitle('Contigs length distribution by label')"
   ]
  },
  {
   "cell_type": "markdown",
   "metadata": {},
   "source": [
    "As expected the plasmid contigs do not contain very large contigs.\n",
    "We can however notice an apparently large number of hybrid contigs labeled as chromosomes and of short length, which might be a problem."
   ]
  },
  {
   "cell_type": "code",
   "execution_count": 35,
   "metadata": {
    "jupyter": {
     "source_hidden": true
    },
    "tags": []
   },
   "outputs": [
    {
     "name": "stdout",
     "output_type": "stream",
     "text": [
      "The number of chromosome contigs shorter than the median plasmid contig is 450\n"
     ]
    }
   ],
   "source": [
    "# Number of short chromosome contigs defined as chromosome contigs of length below the median length of plasmid contigs\n",
    "E_faecalis_median_plasmid_ctg_len = E_faecalis_labels_df_plasmid['contig_length'].median()\n",
    "E_faecalis_nb_short_chromosome_ctg = len(E_faecalis_labels_df_chromosome[E_faecalis_labels_df_chromosome['contig_length']<=E_faecalis_median_plasmid_ctg_len].index)\n",
    "print(f'The number of chromosome contigs shorter than the median plasmid contig is {E_faecalis_nb_short_chromosome_ctg}')"
   ]
  },
  {
   "cell_type": "markdown",
   "metadata": {},
   "source": [
    "Indeed we can see that many short contigs are labeled as chromosome, and this suggests a possible issue in the way the ground truth labels were obtained.\n",
    "We look at the circularity of contigs to try to understand better the provided labels"
   ]
  },
  {
   "cell_type": "code",
   "execution_count": 46,
   "metadata": {
    "tags": []
   },
   "outputs": [
    {
     "name": "stdout",
     "output_type": "stream",
     "text": [
      "Number of circular hybrid plasmid contigs: 67\n",
      "Number of linear hybrid plasmid contigs: 0\n",
      "Number of circular hybrid chromosome contigs: 24\n",
      "Number of short (<=2000000) circular hybrid chromosome contigs: 0\n",
      "Number of linear hybrid chromosome contigs: 660\n",
      "Number of short (<=1000) linear hybrid chromosome contigs: 144\n"
     ]
    }
   ],
   "source": [
    "# Number of circular and linear contigs in each class\n",
    "\n",
    "# Thresholds defining what is a short hybrid chromoosme contig.\n",
    "E_faecalis_short_circ_chromosome_ctgs_threshold = 2000000\n",
    "E_faecalis_short_lin_chromosome_ctgs_threshold = 1000\n",
    "\n",
    "E_faecalis_nb_circ_plasmid_ctgs = len(E_faecalis_labels_df_plasmid[E_faecalis_labels_df_plasmid['circularity']==1].index)\n",
    "E_faecalis_nb_lin_plasmid_ctgs = len(E_faecalis_labels_df_plasmid[E_faecalis_labels_df_plasmid['circularity']==0].index)\n",
    "E_faecalis_nb_circ_chromosome_ctgs = len(E_faecalis_labels_df_chromosome[E_faecalis_labels_df_chromosome['circularity']==1].index)\n",
    "E_faecalis_nb_short_circ_chromosome_ctgs = len(\n",
    "    E_faecalis_labels_df_chromosome[\n",
    "        (E_faecalis_labels_df_chromosome['circularity']==1) & \n",
    "        (E_faecalis_labels_df_chromosome['contig_length']<=E_faecalis_short_circ_chromosome_ctgs_threshold)\n",
    "    ].index\n",
    ")\n",
    "E_faecalis_nb_lin_chromosome_ctgs = len(E_faecalis_labels_df_chromosome[E_faecalis_labels_df_chromosome['circularity']==0].index)\n",
    "E_faecalis_nb_short_lin_chromosome_ctgs = len(\n",
    "    E_faecalis_labels_df_chromosome[\n",
    "        (E_faecalis_labels_df_chromosome['circularity']==0) & \n",
    "        (E_faecalis_labels_df_chromosome['contig_length']<=E_faecalis_short_lin_chromosome_ctgs_threshold)\n",
    "    ].index\n",
    ")\n",
    "print(f'Number of circular hybrid plasmid contigs: {E_faecalis_nb_circ_plasmid_ctgs}')\n",
    "print(f'Number of linear hybrid plasmid contigs: {E_faecalis_nb_lin_plasmid_ctgs}')\n",
    "print(f'Number of circular hybrid chromosome contigs: {E_faecalis_nb_circ_chromosome_ctgs}')\n",
    "print(f'Number of short (<={E_faecalis_short_circ_chromosome_ctgs_threshold}) circular hybrid chromosome contigs: {E_faecalis_nb_short_circ_chromosome_ctgs}')\n",
    "print(f'Number of linear hybrid chromosome contigs: {E_faecalis_nb_lin_chromosome_ctgs}')\n",
    "print(f'Number of short (<={E_faecalis_short_lin_chromosome_ctgs_threshold}) linear hybrid chromosome contigs: {E_faecalis_nb_short_lin_chromosome_ctgs}')"
   ]
  },
  {
   "cell_type": "markdown",
   "metadata": {},
   "source": [
    "It looks like a contig needs to be circular to be labelled as plasmid but some circular contigs are also labelled as chromosome, likely fully assembled chromosomes.  \n",
    "The number of short linear hybrid chromosome contigs suggest the provided ground truth is dubious."
   ]
  },
  {
   "cell_type": "markdown",
   "metadata": {},
   "source": [
    "## E faecium data, 2022-10-13\n",
    "\n",
    "I would redo a similar analysis on this data once it is available."
   ]
  }
 ],
 "metadata": {
  "kernelspec": {
   "display_name": "Python 3 (ipykernel)",
   "language": "python",
   "name": "python3"
  },
  "language_info": {
   "codemirror_mode": {
    "name": "ipython",
    "version": 3
   },
   "file_extension": ".py",
   "mimetype": "text/x-python",
   "name": "python",
   "nbconvert_exporter": "python",
   "pygments_lexer": "ipython3",
   "version": "3.10.8"
  }
 },
 "nbformat": 4,
 "nbformat_minor": 4
}
