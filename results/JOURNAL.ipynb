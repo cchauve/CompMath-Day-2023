{
 "cells": [
  {
   "cell_type": "markdown",
   "metadata": {},
   "source": [
    "# Lab notebook\n",
    "\n",
    "## Overview\n",
    "This notebook records basic analysis of the project aiming at compare the performances of HyAsP and MOB-recon on tw data sets of *E faecalis* and *E facium* samples."
   ]
  },
  {
   "cell_type": "code",
   "execution_count": 1,
   "metadata": {
    "jupyter": {
     "source_hidden": true
    }
   },
   "outputs": [],
   "source": [
    "# Python packages.\n",
    "import os\n",
    "import numpy as np\n",
    "import pandas as pd\n",
    "from collections import defaultdict\n",
    "import matplotlib\n",
    "import matplotlib.pyplot as plt\n",
    "\n",
    "import journal_utils"
   ]
  },
  {
   "cell_type": "markdown",
   "metadata": {},
   "source": [
    "## E faecalis data, 2022-10-02\n",
    "\n",
    "The *E faecalis* data set is available at [2022-10-02_E_faecalis](../data/2022-10-02_E_faecalis/README.md).\n",
    "\n",
    "The summary files are the [list of samples](../data/2022-10-02_E_faecalis/E_faecalis_samples.txt) and the [labeling of contigs](../data/2022-10-02_E_faecalis/E_faecalis_labels.csv)."
   ]
  },
  {
   "cell_type": "code",
   "execution_count": 2,
   "metadata": {
    "jupyter": {
     "source_hidden": true
    }
   },
   "outputs": [],
   "source": [
    "# Data set summary files\n",
    "E_faecalis_samples_file = '../data/2022-10-02_E_faecalis/E_faecalis_samples.txt'\n",
    "E_faecalis_labels_file = '../data/2022-10-02_E_faecalis/E_faecalis_labels.csv'\n",
    "\n",
    "E_faecalis_samples_list = journal_utils.samples_file2list(E_faecalis_samples_file)\n",
    "E_faecalis_labels_df = pd.read_csv(E_faecalis_labels_file)"
   ]
  },
  {
   "cell_type": "code",
   "execution_count": 3,
   "metadata": {
    "jupyter": {
     "source_hidden": true
    }
   },
   "outputs": [
    {
     "name": "stdout",
     "output_type": "stream",
     "text": [
      "There are 56 E.faecalis samples and 60 samples from the labels file\n",
      "Samples from list but not from labels: \n",
      "Samples from labels but not from list: SRR13726590,SRR13725727,SRR13726582,SRR14024961\n"
     ]
    }
   ],
   "source": [
    "# Statsitics on samples\n",
    "E_faecalis_nb_samples_from_list = len(E_faecalis_samples_list)\n",
    "E_faecalis_samples_from_labels = list(E_faecalis_labels_df['SRA'].unique())\n",
    "E_faecalis_nb_samples_from_labels = len(E_faecalis_samples_from_labels)\n",
    "E_faecalis_samples_diff_list = journal_utils.diff_lists(E_faecalis_samples_list, E_faecalis_samples_from_labels)\n",
    "E_faecalis_samples_diff_labels = journal_utils.diff_lists(E_faecalis_samples_from_labels, E_faecalis_samples_list)\n",
    "\n",
    "print(f'There are {E_faecalis_nb_samples_from_list} E.faecalis samples and {E_faecalis_nb_samples_from_labels} samples from the labels file')\n",
    "print(f'Samples from list but not from labels: {\",\".join(E_faecalis_samples_diff_list)}')\n",
    "print(f'Samples from labels but not from list: {\",\".join(E_faecalis_samples_diff_labels)}')"
   ]
  },
  {
   "cell_type": "markdown",
   "metadata": {},
   "source": [
    "**WARNING.**\n",
    "There is an issue with the provided data as there are 4 samples that are provided with labels but are not in the list of samples for which data is available.\n",
    "\n",
    "We discard the contigs from the corresponding samples in the database of contig labels."
   ]
  },
  {
   "cell_type": "code",
   "execution_count": 26,
   "metadata": {
    "jupyter": {
     "source_hidden": true
    },
    "tags": []
   },
   "outputs": [],
   "source": [
    "# Discarding from the labeld dataframe rows from samples is not in the list of samples\n",
    "E_faecalis_labels_df = E_faecalis_labels_df[~E_faecalis_labels_df['SRA'].isin(E_faecalis_samples_diff_labels)]\n",
    "# Plasmid and chromosome contigs\n",
    "E_faecalis_labels_df_plasmid = E_faecalis_labels_df.loc[E_faecalis_labels_df['classification']=='plasmid']\n",
    "E_faecalis_labels_df_chromosome = E_faecalis_labels_df.loc[E_faecalis_labels_df['classification']=='chromosome']"
   ]
  },
  {
   "cell_type": "code",
   "execution_count": 36,
   "metadata": {
    "jupyter": {
     "source_hidden": true
    },
    "tags": []
   },
   "outputs": [
    {
     "name": "stdout",
     "output_type": "stream",
     "text": [
      "There are 751 hybrid contigs with a label.\n",
      "There are 67 plasmid hybrid contigs.\n",
      "There are 684 plasmid hybrid contigs.\n"
     ]
    }
   ],
   "source": [
    "# Statistics on contigs\n",
    "E_faecalis_nb_contigs = len(E_faecalis_labels_df.index)\n",
    "E_faecalis_nb_plasmid_contigs = len(E_faecalis_labels_df_plasmid.index)\n",
    "E_faecalis_nb_chromosome_contigs = len(E_faecalis_labels_df_chromosome.index)\n",
    "\n",
    "print(f'There are {E_faecalis_nb_contigs} hybrid contigs with a label.')\n",
    "print(f'There are {E_faecalis_nb_plasmid_contigs} plasmid hybrid contigs.')\n",
    "print(f'There are {E_faecalis_nb_chromosome_contigs} plasmid hybrid contigs.')\n",
    "\n",
    "if E_faecalis_nb_contigs != E_faecalis_nb_plasmid_contigs+E_faecalis_nb_chromosome_contigs:\n",
    "    print('WARNING: some hybrid contigs are unlabeled')"
   ]
  },
  {
   "cell_type": "markdown",
   "metadata": {},
   "source": [
    "**Comments.**\n",
    "This was a preliminary and very rough analysis of the data.\n",
    "We could do more preliminary analysis, such as the length distribution of hybrid contigs for each class (plasmid or chromosome), see below."
   ]
  },
  {
   "cell_type": "code",
   "execution_count": 25,
   "metadata": {
    "jupyter": {
     "source_hidden": true
    },
    "tags": []
   },
   "outputs": [
    {
     "data": {
      "text/plain": [
       "Text(0.5, 0.98, 'Contigs length distribution by label')"
      ]
     },
     "execution_count": 25,
     "metadata": {},
     "output_type": "execute_result"
    },
    {
     "data": {
      "text/plain": [
       "<Figure size 640x480 with 0 Axes>"
      ]
     },
     "metadata": {},
     "output_type": "display_data"
    },
    {
     "data": {
      "image/png": "[encoded data removed]",
      "text/plain": [
       "<Figure size 1600x300 with 2 Axes>"
      ]
     },
     "metadata": {},
     "output_type": "display_data"
    }
   ],
   "source": [
    "plt.figure()\n",
    "ax = E_faecalis_labels_df.plot.hist(column=['contig_length'], by='classification', figsize=(16, 3), layout=(1,2), sharey=True)\n",
    "plt.suptitle('Contigs length distribution by label')"
   ]
  },
  {
   "cell_type": "markdown",
   "metadata": {},
   "source": [
    "As expected the plasmid contigs do not contain very large contigs.\n",
    "We can however notice an apparently large number of hybrid contigs labeled as chromosomes and of short length, which might be a problem."
   ]
  },
  {
   "cell_type": "code",
   "execution_count": 35,
   "metadata": {
    "jupyter": {
     "source_hidden": true
    },
    "tags": []
   },
   "outputs": [
    {
     "name": "stdout",
     "output_type": "stream",
     "text": [
      "The number of chromosome contigs shorter than the median plasmid contig is 450\n"
     ]
    }
   ],
   "source": [
    "# Number of short chromosome contigs defined as chromosome contigs of length below the median length of plasmid contigs\n",
    "E_faecalis_median_plasmid_ctg_len = E_faecalis_labels_df_plasmid['contig_length'].median()\n",
    "E_faecalis_nb_short_chromosome_ctg = len(E_faecalis_labels_df_chromosome[E_faecalis_labels_df_chromosome['contig_length']<=E_faecalis_median_plasmid_ctg_len].index)\n",
    "print(f'The number of chromosome contigs shorter than the median plasmid contig is {E_faecalis_nb_short_chromosome_ctg}')"
   ]
  },
  {
   "cell_type": "markdown",
   "metadata": {},
   "source": [
    "Indeed we can see that many short contigs are labeled as chromosome, and this suggests a possible issue in the way the ground truth labels were obtained.\n",
    "We look at the circularity of contigs to try to understand better the provided labels"
   ]
  },
  {
   "cell_type": "code",
   "execution_count": 45,
   "metadata": {
    "jupyter": {
     "source_hidden": true
    }
   },
   "outputs": [
    {
     "name": "stdout",
     "output_type": "stream",
     "text": [
      "Number of circular hybrid plasmid contigs: 67\n",
      "Number of linear hybrid plasmid contigs: 0\n",
      "Number of circular hybrid chromosome contigs: 24\n",
      "Number of short (<=2000000) circular hybrid chromosome contigs: 0\n",
      "Number of linear hybrid chromosome contigs: 660\n",
      "Number of short (<=1000) linear hybrid chromosome contigs: 144\n"
     ]
    }
   ],
   "source": [
    "# Number of circular and linear contigs in each class\n",
    "E_faecalis_short_circ_chromosome_ctgs_threshold = 2000000\n",
    "E_faecalis_short_lin_chromosome_ctgs_threshold = 1000\n",
    "\n",
    "E_faecalis_nb_circ_plasmid_ctgs = len(E_faecalis_labels_df_plasmid[E_faecalis_labels_df_plasmid['circularity']==1].index)\n",
    "E_faecalis_nb_lin_plasmid_ctgs = len(E_faecalis_labels_df_plasmid[E_faecalis_labels_df_plasmid['circularity']==0].index)\n",
    "E_faecalis_nb_circ_chromosome_ctgs = len(E_faecalis_labels_df_chromosome[E_faecalis_labels_df_chromosome['circularity']==1].index)\n",
    "E_faecalis_nb_short_circ_chromosome_ctgs = len(\n",
    "    E_faecalis_labels_df_chromosome[(E_faecalis_labels_df_chromosome['circularity']==1) & (E_faecalis_labels_df_chromosome['contig_length']<=E_faecalis_short_circ_chromosome_ctgs_threshold)].index\n",
    ")\n",
    "E_faecalis_nb_lin_chromosome_ctgs = len(E_faecalis_labels_df_chromosome[E_faecalis_labels_df_chromosome['circularity']==0].index)\n",
    "E_faecalis_nb_short_lin_chromosome_ctgs = len(\n",
    "    E_faecalis_labels_df_chromosome[(E_faecalis_labels_df_chromosome['circularity']==0) & (E_faecalis_labels_df_chromosome['contig_length']<=E_faecalis_short_lin_chromosome_ctgs_threshold)].index\n",
    ")\n",
    "print(f'Number of circular hybrid plasmid contigs: {E_faecalis_nb_circ_plasmid_ctgs}')\n",
    "print(f'Number of linear hybrid plasmid contigs: {E_faecalis_nb_lin_plasmid_ctgs}')\n",
    "print(f'Number of circular hybrid chromosome contigs: {E_faecalis_nb_circ_chromosome_ctgs}')\n",
    "print(f'Number of short (<={E_faecalis_short_circ_chromosome_ctgs_threshold}) circular hybrid chromosome contigs: {E_faecalis_nb_short_circ_chromosome_ctgs}')\n",
    "print(f'Number of linear hybrid chromosome contigs: {E_faecalis_nb_lin_chromosome_ctgs}')\n",
    "print(f'Number of short (<={E_faecalis_short_lin_chromosome_ctgs_threshold}) linear hybrid chromosome contigs: {E_faecalis_nb_short_lin_chromosome_ctgs}')"
   ]
  },
  {
   "cell_type": "markdown",
   "metadata": {},
   "source": [
    "It looks like a contig needs to be circular to be labelled as plasmid but some circular contigs are also labelled as chromosome, likely fully assembled chromosomes.  \n",
    "The number of short linear hybrid chromosome contigs suggest the provided ground truth is dubious."
   ]
  },
  {
   "cell_type": "code",
   "execution_count": null,
   "metadata": {
    "jupyter": {
     "source_hidden": true
    },
    "tags": []
   },
   "outputs": [],
   "source": []
  },
  {
   "cell_type": "markdown",
   "metadata": {},
   "source": [
    "## E faecium data, 2022-10-13\n",
    "\n",
    "I would redo a similar analysis on this data once it is available."
   ]
  },
  {
   "cell_type": "code",
   "execution_count": null,
   "metadata": {
    "jupyter": {
     "source_hidden": true
    },
    "tags": []
   },
   "outputs": [],
   "source": []
  },
  {
   "cell_type": "code",
   "execution_count": null,
   "metadata": {
    "jupyter": {
     "source_hidden": true
    },
    "tags": []
   },
   "outputs": [],
   "source": []
  },
  {
   "cell_type": "code",
   "execution_count": null,
   "metadata": {
    "jupyter": {
     "source_hidden": true
    },
    "tags": []
   },
   "outputs": [],
   "source": []
  },
  {
   "cell_type": "code",
   "execution_count": null,
   "metadata": {
    "jupyter": {
     "source_hidden": true
    },
    "tags": []
   },
   "outputs": [],
   "source": []
  },
  {
   "cell_type": "code",
   "execution_count": null,
   "metadata": {
    "jupyter": {
     "source_hidden": true
    },
    "tags": []
   },
   "outputs": [],
   "source": []
  },
  {
   "cell_type": "code",
   "execution_count": null,
   "metadata": {
    "jupyter": {
     "source_hidden": true
    },
    "tags": []
   },
   "outputs": [],
   "source": []
  },
  {
   "cell_type": "code",
   "execution_count": null,
   "metadata": {
    "jupyter": {
     "source_hidden": true
    },
    "tags": []
   },
   "outputs": [],
   "source": []
  },
  {
   "cell_type": "markdown",
   "metadata": {},
   "source": [
    "### E. faecium\n",
    "\n",
    "We present our analysis of the *E. faecium* isolates. (Contig refer to hybrid contigs.)"
   ]
  },
  {
   "cell_type": "markdown",
   "metadata": {},
   "source": [
    "##### Statistics on isolates and contigs"
   ]
  },
  {
   "cell_type": "code",
   "execution_count": null,
   "metadata": {
    "jupyter": {
     "source_hidden": true
    }
   },
   "outputs": [],
   "source": [
    "# Reading hybrid contigs details.\n",
    "EFAECIUM_CONTIGS = pd.read_csv('ctg_details_Efaecium.csv')\n",
    "EFAECIUM_CONTIGS_NB = len(EFAECIUM_CONTIGS)\n",
    "EFAECIUM_NB_SAMPLES = len(EFAECIUM_CONTIGS['SRA'].value_counts())\n",
    "# Plasmid contigs\n",
    "EFAECIUM_PLASMIDS = EFAECIUM_CONTIGS[(EFAECIUM_CONTIGS['classification'] == 'plasmid')]\n",
    "EFAECIUM_NB_PLASMIDS = EFAECIUM_PLASMIDS.shape[0]\n",
    "EFAECIUM_NB_PLASMIDS_SAMPLES = len(EFAECIUM_PLASMIDS['SRA'].value_counts())"
   ]
  },
  {
   "cell_type": "code",
   "execution_count": null,
   "metadata": {
    "jupyter": {
     "source_hidden": true
    }
   },
   "outputs": [
    {
     "name": "stdout",
     "output_type": "stream",
     "text": [
      "The total number of E. faecium isolates is 71 and of contigs over all isolates is 3538\n",
      "The number of contigs labelled as plasmid over all isolates is 174\n",
      "The number of samples with no contig labelled as plasmid is 12\n"
     ]
    }
   ],
   "source": [
    "print(f'The total number of E. faecium isolates is {EFAECIUM_NB_SAMPLES} and of contigs over all isolates is {EFAECIUM_CONTIGS_NB}')\n",
    "print(f'The number of contigs labelled as plasmid over all isolates is {EFAECIUM_NB_PLASMIDS}')\n",
    "print(f'The number of samples with no contig labelled as plasmid is {EFAECIUM_NB_SAMPLES-EFAECIUM_NB_PLASMIDS_SAMPLES}')"
   ]
  },
  {
   "cell_type": "markdown",
   "metadata": {},
   "source": [
    "##### Length distribution of circular contigs"
   ]
  },
  {
   "cell_type": "code",
   "execution_count": null,
   "metadata": {
    "jupyter": {
     "source_hidden": true
    }
   },
   "outputs": [],
   "source": [
    "CIRCULAR_CONTIGS = EFAECIUM_CONTIGS[(EFAECIUM_CONTIGS['circularity'] == 1)]\n",
    "CIRCULAR_CONTIGS_CHROM = CIRCULAR_CONTIGS[CIRCULAR_CONTIGS['classification'] == 'chromosome']\n",
    "CIRCULAR_CONTIGS_PLASMIDS = CIRCULAR_CONTIGS[CIRCULAR_CONTIGS['classification'] == 'plasmid']"
   ]
  },
  {
   "cell_type": "code",
   "execution_count": null,
   "metadata": {
    "jupyter": {
     "source_hidden": true
    }
   },
   "outputs": [
    {
     "data": {
      "image/png": "[encoded data removed]",
      "text/plain": [
       "<Figure size 720x288 with 1 Axes>"
      ]
     },
     "metadata": {
      "needs_background": "light"
     },
     "output_type": "display_data"
    }
   ],
   "source": [
    "figure5 = CIRCULAR_CONTIGS.hist(column=[\"contig_length\"], bins=40, figsize=(10,4))\n",
    "plt.title('Length of hybrid circular contigs', fontsize=15)\n",
    "plt.xlabel('Hybrid circular contig length')\n",
    "plt.ylabel('Frequency')\n",
    "plt.grid()\n",
    "plt.show()"
   ]
  },
  {
   "cell_type": "markdown",
   "metadata": {},
   "source": [
    "As with E. faecalis, the choice for L is left unclear. We choose a small value of L = 300000."
   ]
  },
  {
   "cell_type": "code",
   "execution_count": null,
   "metadata": {
    "jupyter": {
     "source_hidden": true
    }
   },
   "outputs": [],
   "source": [
    "EFAECIUM_THRESHOLD = 300000"
   ]
  },
  {
   "cell_type": "code",
   "execution_count": null,
   "metadata": {
    "jupyter": {
     "source_hidden": true
    }
   },
   "outputs": [
    {
     "name": "stdout",
     "output_type": "stream",
     "text": [
      "Over all E. faecium isolates there are 187 circular contigs\n",
      "  13 are classified as chromosome\n",
      "  174 are classified as plasmid\n"
     ]
    }
   ],
   "source": [
    "print(f'Over all E. faecium isolates there are {len(CIRCULAR_CONTIGS)} circular contigs')\n",
    "print(f'  {len(CIRCULAR_CONTIGS_CHROM)} are classified as chromosome')\n",
    "print(f'  {len(CIRCULAR_CONTIGS_PLASMIDS)} are classified as plasmid')"
   ]
  },
  {
   "cell_type": "markdown",
   "metadata": {},
   "source": [
    "E. faecium shows the same trend as E. faecalis. The number of chromosome contigs is very small compared to the total number of isolates indicating that not all chromosomes are not fully assembled. "
   ]
  },
  {
   "cell_type": "markdown",
   "metadata": {},
   "source": [
    "##### Hybrid contigs classified as plasmids"
   ]
  },
  {
   "cell_type": "code",
   "execution_count": null,
   "metadata": {
    "jupyter": {
     "source_hidden": true
    }
   },
   "outputs": [
    {
     "data": {
      "image/png": "[encoded data removed]",
      "text/plain": [
       "<Figure size 720x360 with 1 Axes>"
      ]
     },
     "metadata": {
      "needs_background": "light"
     },
     "output_type": "display_data"
    }
   ],
   "source": [
    "# Number of hybrid plasmid ontigs per isolate with at least one\n",
    "EFAECIUM_PLASMIDS_CTGS_labels, EFAECIUM_PLASMIDS_CTGS_counts = np.unique(EFAECIUM_PLASMIDS['SRA'].value_counts(), return_counts=True)\n",
    "figure6 = plt.figure(figsize=(10,5))\n",
    "plt.title('E. Faecium: distribution of the number of hybrid plasmid contigs per isolate', fontsize=15)\n",
    "plt.xlabel('Number of hybrid plasmid contigs')\n",
    "plt.ylabel('Number of isolates')\n",
    "plt.bar(EFAECIUM_PLASMIDS_CTGS_labels, EFAECIUM_PLASMIDS_CTGS_counts, align='center', width=0.3)\n",
    "plt.grid()\n",
    "plt.gca().set_xticks(EFAECIUM_PLASMIDS_CTGS_labels)\n",
    "plt.show()"
   ]
  },
  {
   "cell_type": "markdown",
   "metadata": {},
   "source": [
    "##### Distribution of contig lengths per label\n",
    "\n",
    "We now look at the three classes of contigs (plasmid, chromsome and ambiguous) for E. faecium isolates."
   ]
  },
  {
   "cell_type": "code",
   "execution_count": null,
   "metadata": {
    "jupyter": {
     "source_hidden": true
    }
   },
   "outputs": [],
   "source": [
    "#Re-assigning labels to non-circular contigs smaller than the threshold as 'ambiguous'\n",
    "for i, row in EFAECIUM_CONTIGS.iterrows():\n",
    "    if (EFAECIUM_CONTIGS.loc[i,'classification'] == 'chromosome') & (EFAECIUM_CONTIGS.loc[i,'contig_length'] <= 300000):\n",
    "        EFAECIUM_CONTIGS.at[i,'classification'] = 'ambiguous'"
   ]
  },
  {
   "cell_type": "code",
   "execution_count": null,
   "metadata": {
    "jupyter": {
     "source_hidden": true
    }
   },
   "outputs": [
    {
     "name": "stdout",
     "output_type": "stream",
     "text": [
      "Number of chromosome contigs: 174\n",
      "Number of plasmid contigs: 114\n",
      "Number of ambiguous contigs: 3250\n"
     ]
    }
   ],
   "source": [
    "EFAECIUM_PLASMID_NB = EFAECIUM_CONTIGS[EFAECIUM_CONTIGS['classification'] == 'chromosome'].shape[0]\n",
    "EFAECIUM_CHROM_NB = EFAECIUM_CONTIGS[EFAECIUM_CONTIGS['classification'] == 'plasmid'].shape[0]\n",
    "EFAECIUM_AMBIG_NB = EFAECIUM_CONTIGS[EFAECIUM_CONTIGS['classification'] == 'ambiguous'].shape[0]\n",
    "print(f'Number of chromosome contigs: {EFAECIUM_CHROM_NB}')\n",
    "print(f'Number of plasmid contigs: {EFAECIUM_PLASMID_NB}')\n",
    "print(f'Number of ambiguous contigs: {EFAECIUM_AMBIG_NB}')"
   ]
  },
  {
   "cell_type": "code",
   "execution_count": null,
   "metadata": {
    "jupyter": {
     "source_hidden": true
    }
   },
   "outputs": [
    {
     "name": "stdout",
     "output_type": "stream",
     "text": [
      "Hybrid contig length distribution per class\n"
     ]
    },
    {
     "data": {
      "image/png": "[encoded data removed]",
      "text/plain": [
       "<Figure size 1440x864 with 4 Axes>"
      ]
     },
     "metadata": {
      "needs_background": "light"
     },
     "output_type": "display_data"
    }
   ],
   "source": [
    "EFAECIUM_CONTIGS_LEN = EFAECIUM_CONTIGS[['contig_length','classification']]\n",
    "print(f'Hybrid contig length distribution per class')\n",
    "figure7 = EFAECIUM_CONTIGS_LEN.hist(by=\"classification\", bins=40, figsize=(20, 12))"
   ]
  },
  {
   "cell_type": "code",
   "execution_count": null,
   "metadata": {
    "jupyter": {
     "source_hidden": true
    }
   },
   "outputs": [
    {
     "name": "stdout",
     "output_type": "stream",
     "text": [
      "3424 out of 3538 contigs are under 300000 bp in length and 3250 of these contigs have been classified as ambiguous.\n"
     ]
    }
   ],
   "source": [
    "nb_short_contigs = len(EFAECIUM_CONTIGS[(EFAECIUM_CONTIGS[\"contig_length\"] <= EFAECIUM_THRESHOLD)])\n",
    "nb_short_ambig_contigs = len(EFAECIUM_CONTIGS[(EFAECIUM_CONTIGS[\"contig_length\"] <= EFAECIUM_THRESHOLD) & (EFAECIUM_CONTIGS['classification'] == 'ambiguous')])\n",
    "print(f'{nb_short_contigs} out of {EFAECIUM_CONTIGS_NB} contigs are under {EFAECIUM_THRESHOLD} bp in length and {nb_short_ambig_contigs} of these contigs have been classified as ambiguous.')"
   ]
  },
  {
   "cell_type": "markdown",
   "metadata": {},
   "source": [
    "All of the ambiguous and plasmid contigs are shorter than 150000 bp. This indicates a strong separation between ambiguous/plasmid and chromosome contigs, with the chosen threshold (300000bp). However, it is unclear if ambiguous contigs are  fragments of chromosomes or should be considered independent plasmids."
   ]
  },
  {
   "cell_type": "code",
   "execution_count": null,
   "metadata": {
    "jupyter": {
     "source_hidden": true
    }
   },
   "outputs": [
    {
     "data": {
      "image/png": "[encoded data removed]",
      "text/plain": [
       "<Figure size 1440x504 with 1 Axes>"
      ]
     },
     "metadata": {
      "needs_background": "light"
     },
     "output_type": "display_data"
    }
   ],
   "source": [
    "EFAECIUM_CHR_BY_THRESHOLD, EFAECIUM_PLS_BY_THRESHOLD, EFAECIUM_AMB_BY_THRESHOLD = np.empty(20),np.empty(20),np.empty(20) \n",
    "\n",
    "for i in range(len(THRESHOLDS)):\n",
    "    L = THRESHOLDS[i]\n",
    "    CHR_NB, PLS_NB, AMB_NB = split_by_threshold(L, EFAECIUM_CONTIGS)\n",
    "    EFAECIUM_CHR_BY_THRESHOLD[i] = CHR_NB \n",
    "    EFAECIUM_PLS_BY_THRESHOLD[i] = PLS_NB\n",
    "    EFAECIUM_AMB_BY_THRESHOLD[i] = AMB_NB\n",
    "THR_LIST = [str(x) for x in THRESHOLDS]\n",
    "\n",
    "figure3 = plt.figure(figsize=(20,7))\n",
    "plt.bar(THR_LIST, EFAECIUM_CHR_BY_THRESHOLD, color='r')\n",
    "plt.bar(THR_LIST, EFAECIUM_PLS_BY_THRESHOLD, bottom=EFAECIUM_CHR_BY_THRESHOLD, color='b')\n",
    "plt.bar(THR_LIST, EFAECIUM_AMB_BY_THRESHOLD, bottom=EFAECIUM_CHR_BY_THRESHOLD+EFAECIUM_PLS_BY_THRESHOLD, color='y')\n",
    "\n",
    "plt.xlabel(\"Length threshold (bp)\",fontsize=15)\n",
    "plt.ylabel(\"Number of contigs\",fontsize=15)\n",
    "plt.legend([\"Chromosome\", \"Plasmid\", \"Ambiguous\"],fontsize=10)\n",
    "plt.title(\"Contigs labelled as chromosomes, plasmids and ambiguous by length threshold\",fontsize=15)\n",
    "plt.show()"
   ]
  },
  {
   "cell_type": "markdown",
   "metadata": {},
   "source": [
    "#### Landscape of contigs distribution"
   ]
  },
  {
   "cell_type": "code",
   "execution_count": null,
   "metadata": {
    "jupyter": {
     "source_hidden": true
    }
   },
   "outputs": [],
   "source": [
    "EFAECIUM_CONTIGS_GROUPED_DICT = {}\n",
    "for idx, row in EFAECIUM_CONTIGS.iterrows():\n",
    "    EFAECIUM_CONTIGS_GROUPED_DICT[row['SRA']] = defaultdict(int)\n",
    "for idx, row in EFAECIUM_CONTIGS.iterrows():\n",
    "    EFAECIUM_CONTIGS_GROUPED_DICT[row['SRA']][row['classification']] += 1\n",
    "EFAECIUM_CONTIGS_GROUPED = pd.DataFrame.from_dict(EFAECIUM_CONTIGS_GROUPED_DICT, orient='index').fillna(0)\n",
    "EFAECIUM_CONTIGS_GROUPED.sort_values('ambiguous', inplace=True, ascending=False)"
   ]
  },
  {
   "cell_type": "code",
   "execution_count": null,
   "metadata": {
    "jupyter": {
     "source_hidden": true
    }
   },
   "outputs": [
    {
     "name": "stdout",
     "output_type": "stream",
     "text": [
      "First 50 E. faecium samples\n"
     ]
    },
    {
     "data": {
      "text/html": [
       "<div>\n",
       "<style scoped>\n",
       "    .dataframe tbody tr th:only-of-type {\n",
       "        vertical-align: middle;\n",
       "    }\n",
       "\n",
       "    .dataframe tbody tr th {\n",
       "        vertical-align: top;\n",
       "    }\n",
       "\n",
       "    .dataframe thead th {\n",
       "        text-align: right;\n",
       "    }\n",
       "</style>\n",
       "<table border=\"1\" class=\"dataframe\">\n",
       "  <thead>\n",
       "    <tr style=\"text-align: right;\">\n",
       "      <th></th>\n",
       "      <th>chromosome</th>\n",
       "      <th>ambiguous</th>\n",
       "      <th>plasmid</th>\n",
       "    </tr>\n",
       "  </thead>\n",
       "  <tbody>\n",
       "    <tr>\n",
       "      <th>SRR14022764</th>\n",
       "      <td>1.0</td>\n",
       "      <td>237.0</td>\n",
       "      <td>0.0</td>\n",
       "    </tr>\n",
       "    <tr>\n",
       "      <th>SRR14010969</th>\n",
       "      <td>0.0</td>\n",
       "      <td>184.0</td>\n",
       "      <td>4.0</td>\n",
       "    </tr>\n",
       "    <tr>\n",
       "      <th>SRR14011002</th>\n",
       "      <td>0.0</td>\n",
       "      <td>173.0</td>\n",
       "      <td>4.0</td>\n",
       "    </tr>\n",
       "    <tr>\n",
       "      <th>SRR14026515</th>\n",
       "      <td>0.0</td>\n",
       "      <td>170.0</td>\n",
       "      <td>2.0</td>\n",
       "    </tr>\n",
       "    <tr>\n",
       "      <th>SRR14010946</th>\n",
       "      <td>0.0</td>\n",
       "      <td>167.0</td>\n",
       "      <td>2.0</td>\n",
       "    </tr>\n",
       "    <tr>\n",
       "      <th>SRR14011041</th>\n",
       "      <td>0.0</td>\n",
       "      <td>166.0</td>\n",
       "      <td>3.0</td>\n",
       "    </tr>\n",
       "    <tr>\n",
       "      <th>SRR14010961</th>\n",
       "      <td>1.0</td>\n",
       "      <td>148.0</td>\n",
       "      <td>3.0</td>\n",
       "    </tr>\n",
       "    <tr>\n",
       "      <th>SRR14022770</th>\n",
       "      <td>0.0</td>\n",
       "      <td>143.0</td>\n",
       "      <td>0.0</td>\n",
       "    </tr>\n",
       "    <tr>\n",
       "      <th>SRR14022782</th>\n",
       "      <td>2.0</td>\n",
       "      <td>129.0</td>\n",
       "      <td>1.0</td>\n",
       "    </tr>\n",
       "    <tr>\n",
       "      <th>SRR14026532</th>\n",
       "      <td>0.0</td>\n",
       "      <td>128.0</td>\n",
       "      <td>0.0</td>\n",
       "    </tr>\n",
       "    <tr>\n",
       "      <th>SRR14022776</th>\n",
       "      <td>2.0</td>\n",
       "      <td>124.0</td>\n",
       "      <td>0.0</td>\n",
       "    </tr>\n",
       "    <tr>\n",
       "      <th>SRR14010955</th>\n",
       "      <td>1.0</td>\n",
       "      <td>101.0</td>\n",
       "      <td>5.0</td>\n",
       "    </tr>\n",
       "    <tr>\n",
       "      <th>SRR14026537</th>\n",
       "      <td>2.0</td>\n",
       "      <td>94.0</td>\n",
       "      <td>3.0</td>\n",
       "    </tr>\n",
       "    <tr>\n",
       "      <th>SRR14024950</th>\n",
       "      <td>2.0</td>\n",
       "      <td>90.0</td>\n",
       "      <td>0.0</td>\n",
       "    </tr>\n",
       "    <tr>\n",
       "      <th>SRR14026549</th>\n",
       "      <td>0.0</td>\n",
       "      <td>79.0</td>\n",
       "      <td>0.0</td>\n",
       "    </tr>\n",
       "    <tr>\n",
       "      <th>SRR14011022</th>\n",
       "      <td>4.0</td>\n",
       "      <td>69.0</td>\n",
       "      <td>4.0</td>\n",
       "    </tr>\n",
       "    <tr>\n",
       "      <th>SRR14010981</th>\n",
       "      <td>2.0</td>\n",
       "      <td>59.0</td>\n",
       "      <td>4.0</td>\n",
       "    </tr>\n",
       "    <tr>\n",
       "      <th>SRR14011043</th>\n",
       "      <td>3.0</td>\n",
       "      <td>53.0</td>\n",
       "      <td>3.0</td>\n",
       "    </tr>\n",
       "    <tr>\n",
       "      <th>SRR14024983</th>\n",
       "      <td>2.0</td>\n",
       "      <td>51.0</td>\n",
       "      <td>2.0</td>\n",
       "    </tr>\n",
       "    <tr>\n",
       "      <th>SRR14011035</th>\n",
       "      <td>4.0</td>\n",
       "      <td>49.0</td>\n",
       "      <td>5.0</td>\n",
       "    </tr>\n",
       "    <tr>\n",
       "      <th>SRR14010965</th>\n",
       "      <td>5.0</td>\n",
       "      <td>48.0</td>\n",
       "      <td>3.0</td>\n",
       "    </tr>\n",
       "    <tr>\n",
       "      <th>SRR14026517</th>\n",
       "      <td>2.0</td>\n",
       "      <td>42.0</td>\n",
       "      <td>5.0</td>\n",
       "    </tr>\n",
       "    <tr>\n",
       "      <th>SRR14010950</th>\n",
       "      <td>4.0</td>\n",
       "      <td>42.0</td>\n",
       "      <td>2.0</td>\n",
       "    </tr>\n",
       "    <tr>\n",
       "      <th>SRR14026545</th>\n",
       "      <td>3.0</td>\n",
       "      <td>41.0</td>\n",
       "      <td>0.0</td>\n",
       "    </tr>\n",
       "    <tr>\n",
       "      <th>SRR14022735</th>\n",
       "      <td>2.0</td>\n",
       "      <td>39.0</td>\n",
       "      <td>1.0</td>\n",
       "    </tr>\n",
       "    <tr>\n",
       "      <th>SRR14010988</th>\n",
       "      <td>4.0</td>\n",
       "      <td>34.0</td>\n",
       "      <td>7.0</td>\n",
       "    </tr>\n",
       "    <tr>\n",
       "      <th>SRR14010953</th>\n",
       "      <td>2.0</td>\n",
       "      <td>33.0</td>\n",
       "      <td>4.0</td>\n",
       "    </tr>\n",
       "    <tr>\n",
       "      <th>SRR14026530</th>\n",
       "      <td>2.0</td>\n",
       "      <td>32.0</td>\n",
       "      <td>4.0</td>\n",
       "    </tr>\n",
       "    <tr>\n",
       "      <th>SRR14026535</th>\n",
       "      <td>2.0</td>\n",
       "      <td>30.0</td>\n",
       "      <td>7.0</td>\n",
       "    </tr>\n",
       "    <tr>\n",
       "      <th>SRR14010933</th>\n",
       "      <td>3.0</td>\n",
       "      <td>29.0</td>\n",
       "      <td>4.0</td>\n",
       "    </tr>\n",
       "    <tr>\n",
       "      <th>SRR14026552</th>\n",
       "      <td>3.0</td>\n",
       "      <td>28.0</td>\n",
       "      <td>2.0</td>\n",
       "    </tr>\n",
       "    <tr>\n",
       "      <th>SRR14011003</th>\n",
       "      <td>4.0</td>\n",
       "      <td>27.0</td>\n",
       "      <td>5.0</td>\n",
       "    </tr>\n",
       "    <tr>\n",
       "      <th>SRR14010983</th>\n",
       "      <td>3.0</td>\n",
       "      <td>26.0</td>\n",
       "      <td>4.0</td>\n",
       "    </tr>\n",
       "    <tr>\n",
       "      <th>SRR14026514</th>\n",
       "      <td>3.0</td>\n",
       "      <td>26.0</td>\n",
       "      <td>2.0</td>\n",
       "    </tr>\n",
       "    <tr>\n",
       "      <th>SRR14024951</th>\n",
       "      <td>1.0</td>\n",
       "      <td>26.0</td>\n",
       "      <td>1.0</td>\n",
       "    </tr>\n",
       "    <tr>\n",
       "      <th>SRR14010971</th>\n",
       "      <td>1.0</td>\n",
       "      <td>23.0</td>\n",
       "      <td>6.0</td>\n",
       "    </tr>\n",
       "    <tr>\n",
       "      <th>SRR14022763</th>\n",
       "      <td>1.0</td>\n",
       "      <td>20.0</td>\n",
       "      <td>3.0</td>\n",
       "    </tr>\n",
       "    <tr>\n",
       "      <th>SRR14011020</th>\n",
       "      <td>2.0</td>\n",
       "      <td>19.0</td>\n",
       "      <td>2.0</td>\n",
       "    </tr>\n",
       "    <tr>\n",
       "      <th>SRR14022769</th>\n",
       "      <td>1.0</td>\n",
       "      <td>18.0</td>\n",
       "      <td>4.0</td>\n",
       "    </tr>\n",
       "    <tr>\n",
       "      <th>SRR14022761</th>\n",
       "      <td>1.0</td>\n",
       "      <td>17.0</td>\n",
       "      <td>0.0</td>\n",
       "    </tr>\n",
       "    <tr>\n",
       "      <th>SRR14011039</th>\n",
       "      <td>1.0</td>\n",
       "      <td>16.0</td>\n",
       "      <td>4.0</td>\n",
       "    </tr>\n",
       "    <tr>\n",
       "      <th>SRR14026541</th>\n",
       "      <td>1.0</td>\n",
       "      <td>15.0</td>\n",
       "      <td>2.0</td>\n",
       "    </tr>\n",
       "    <tr>\n",
       "      <th>SRR14026503</th>\n",
       "      <td>2.0</td>\n",
       "      <td>14.0</td>\n",
       "      <td>1.0</td>\n",
       "    </tr>\n",
       "    <tr>\n",
       "      <th>SRR14022777</th>\n",
       "      <td>1.0</td>\n",
       "      <td>14.0</td>\n",
       "      <td>1.0</td>\n",
       "    </tr>\n",
       "    <tr>\n",
       "      <th>SRR14022778</th>\n",
       "      <td>1.0</td>\n",
       "      <td>13.0</td>\n",
       "      <td>1.0</td>\n",
       "    </tr>\n",
       "    <tr>\n",
       "      <th>SRR14011001</th>\n",
       "      <td>1.0</td>\n",
       "      <td>11.0</td>\n",
       "      <td>1.0</td>\n",
       "    </tr>\n",
       "    <tr>\n",
       "      <th>SRR14024986</th>\n",
       "      <td>1.0</td>\n",
       "      <td>11.0</td>\n",
       "      <td>2.0</td>\n",
       "    </tr>\n",
       "    <tr>\n",
       "      <th>SRR14024997</th>\n",
       "      <td>3.0</td>\n",
       "      <td>11.0</td>\n",
       "      <td>1.0</td>\n",
       "    </tr>\n",
       "    <tr>\n",
       "      <th>SRR14024963</th>\n",
       "      <td>1.0</td>\n",
       "      <td>10.0</td>\n",
       "      <td>1.0</td>\n",
       "    </tr>\n",
       "    <tr>\n",
       "      <th>SRR14024990</th>\n",
       "      <td>1.0</td>\n",
       "      <td>10.0</td>\n",
       "      <td>2.0</td>\n",
       "    </tr>\n",
       "  </tbody>\n",
       "</table>\n",
       "</div>"
      ],
      "text/plain": [
       "             chromosome  ambiguous  plasmid\n",
       "SRR14022764         1.0      237.0      0.0\n",
       "SRR14010969         0.0      184.0      4.0\n",
       "SRR14011002         0.0      173.0      4.0\n",
       "SRR14026515         0.0      170.0      2.0\n",
       "SRR14010946         0.0      167.0      2.0\n",
       "SRR14011041         0.0      166.0      3.0\n",
       "SRR14010961         1.0      148.0      3.0\n",
       "SRR14022770         0.0      143.0      0.0\n",
       "SRR14022782         2.0      129.0      1.0\n",
       "SRR14026532         0.0      128.0      0.0\n",
       "SRR14022776         2.0      124.0      0.0\n",
       "SRR14010955         1.0      101.0      5.0\n",
       "SRR14026537         2.0       94.0      3.0\n",
       "SRR14024950         2.0       90.0      0.0\n",
       "SRR14026549         0.0       79.0      0.0\n",
       "SRR14011022         4.0       69.0      4.0\n",
       "SRR14010981         2.0       59.0      4.0\n",
       "SRR14011043         3.0       53.0      3.0\n",
       "SRR14024983         2.0       51.0      2.0\n",
       "SRR14011035         4.0       49.0      5.0\n",
       "SRR14010965         5.0       48.0      3.0\n",
       "SRR14026517         2.0       42.0      5.0\n",
       "SRR14010950         4.0       42.0      2.0\n",
       "SRR14026545         3.0       41.0      0.0\n",
       "SRR14022735         2.0       39.0      1.0\n",
       "SRR14010988         4.0       34.0      7.0\n",
       "SRR14010953         2.0       33.0      4.0\n",
       "SRR14026530         2.0       32.0      4.0\n",
       "SRR14026535         2.0       30.0      7.0\n",
       "SRR14010933         3.0       29.0      4.0\n",
       "SRR14026552         3.0       28.0      2.0\n",
       "SRR14011003         4.0       27.0      5.0\n",
       "SRR14010983         3.0       26.0      4.0\n",
       "SRR14026514         3.0       26.0      2.0\n",
       "SRR14024951         1.0       26.0      1.0\n",
       "SRR14010971         1.0       23.0      6.0\n",
       "SRR14022763         1.0       20.0      3.0\n",
       "SRR14011020         2.0       19.0      2.0\n",
       "SRR14022769         1.0       18.0      4.0\n",
       "SRR14022761         1.0       17.0      0.0\n",
       "SRR14011039         1.0       16.0      4.0\n",
       "SRR14026541         1.0       15.0      2.0\n",
       "SRR14026503         2.0       14.0      1.0\n",
       "SRR14022777         1.0       14.0      1.0\n",
       "SRR14022778         1.0       13.0      1.0\n",
       "SRR14011001         1.0       11.0      1.0\n",
       "SRR14024986         1.0       11.0      2.0\n",
       "SRR14024997         3.0       11.0      1.0\n",
       "SRR14024963         1.0       10.0      1.0\n",
       "SRR14024990         1.0       10.0      2.0"
      ]
     },
     "execution_count": 88,
     "metadata": {},
     "output_type": "execute_result"
    }
   ],
   "source": [
    "print('First 50 E. faecium samples')\n",
    "EFAECIUM_CONTIGS_GROUPED.head(50)"
   ]
  },
  {
   "cell_type": "markdown",
   "metadata": {},
   "source": [
    "#### Summary\n",
    "\n",
    "Overall similar to *E. faecalis* but for a more serious issue with the number of ambiguous contigs, and some cases where the assembly is so fragmented that there are actually no contig labelled as chromosome."
   ]
  },
  {
   "cell_type": "markdown",
   "metadata": {},
   "source": [
    "## Comparison against ground truth"
   ]
  },
  {
   "cell_type": "markdown",
   "metadata": {},
   "source": [
    "We used PlasBin, HyAsP, MOB-recon and plasmidSPAdes to predict plasmids using the short read contigs and assembly graphs. Thus, we obtained plasmids as bins of short read contigs. We use hybrid contigs classified as plasmids to represent the ground truth plasmids. In order to compare the predictions against the ground truth, we obtain short read contig set representations of the hybrid contigs. We do so by mapping the short read contigs onto the hybrid contigs using minimap2. The hybrid contig mappings have been stored in the \"data/Hybrid_Contigs_Plasmids\". For each isolate, we then compare the predictions against the ground truth plasmid bins using PlasEval. We obtain a score that measures the dissimilarity between the ground truth and the predicted plasmid bins."
   ]
  },
  {
   "cell_type": "code",
   "execution_count": null,
   "metadata": {
    "jupyter": {
     "source_hidden": true
    }
   },
   "outputs": [],
   "source": [
    "EFAECALIS_ISOLATES = pd.read_csv('isolate_details_Efaecalis.csv')\n",
    "EFAECIUM_ISOLATES = pd.read_csv('isolate_details_Efaecium.csv')"
   ]
  },
  {
   "cell_type": "markdown",
   "metadata": {},
   "source": [
    "#### E. faecalis"
   ]
  },
  {
   "cell_type": "code",
   "execution_count": 92,
   "metadata": {
    "jupyter": {
     "source_hidden": true
    }
   },
   "outputs": [],
   "source": [
    "#EFAECALIS_ISOLATES.loc[:, EFAECALIS_ISOLATES.columns != 'psp'][~EFAECALIS_ISOLATES.loc[:, EFAECALIS_ISOLATES.columns != 'psp'].isnull().any(axis=1)]"
   ]
  },
  {
   "cell_type": "code",
   "execution_count": 96,
   "metadata": {
    "jupyter": {
     "source_hidden": true
    }
   },
   "outputs": [
    {
     "data": {
      "image/png": "[encoded data removed]",
      "text/plain": [
       "<Figure size 720x720 with 1 Axes>"
      ]
     },
     "metadata": {
      "needs_background": "light"
     },
     "output_type": "display_data"
    }
   ],
   "source": [
    "plt.title('Relation between #contigs and plasmid comparison scores',fontsize=20)\n",
    "plt.xlabel('Scores',fontsize=20)\n",
    "plt.ylabel('#Contigs',fontsize=20)\n",
    "\n",
    "plt.scatter(x=EFAECALIS_ISOLATES['pb'],y=EFAECALIS_ISOLATES['nb_ctg'],color='red',label='PLASBIN')\n",
    "plt.scatter(x=EFAECALIS_ISOLATES['hy'],y=EFAECALIS_ISOLATES['nb_ctg'],color='blue',label='HYASP')\n",
    "plt.scatter(x=EFAECALIS_ISOLATES['mob'],y=EFAECALIS_ISOLATES['nb_ctg'],color='green',label='MOBRECON')\n",
    "#plt.scatter(x=EFAECALIS_ISOLATES['psp'],y=EFAECALIS_ISOLATES['nb_ctg'],color='black',label='PSPADES')\n",
    "\n",
    "plt.legend(loc='upper right',fontsize=20)\n",
    "plt.rcParams[\"figure.figsize\"] = (10,10)\n",
    "plt.tight_layout()\n",
    " \n",
    "plt.show()"
   ]
  },
  {
   "cell_type": "markdown",
   "metadata": {},
   "source": [
    "From this plot, we can see very few scores below 0.5. This suggests that the ground truth is dissimilar to the predicted plasmid bins. Furthermore, if the isolate contains more than 20 hybrid contigs, the dissimilarity score is almost always above 0.5. There is no clear indication as to which tool performs better in terms of similarity to the ground truth."
   ]
  },
  {
   "cell_type": "markdown",
   "metadata": {},
   "source": [
    "#### E. faecium"
   ]
  },
  {
   "cell_type": "code",
   "execution_count": 94,
   "metadata": {
    "jupyter": {
     "source_hidden": true
    }
   },
   "outputs": [],
   "source": [
    "#EFAECIUM_ISOLATES.loc[:, EFAECIUM_ISOLATES.columns != 'psp'][~EFAECIUM_ISOLATES.loc[:, EFAECIUM_ISOLATES.columns != 'psp'].isnull().any(axis=1)]"
   ]
  },
  {
   "cell_type": "code",
   "execution_count": 95,
   "metadata": {
    "jupyter": {
     "source_hidden": true
    }
   },
   "outputs": [
    {
     "data": {
      "image/png": "[encoded data removed]",
      "text/plain": [
       "<Figure size 720x720 with 1 Axes>"
      ]
     },
     "metadata": {
      "needs_background": "light"
     },
     "output_type": "display_data"
    }
   ],
   "source": [
    "plt.title('Relation between #contigs and plasmid comparison scores',fontsize=20)\n",
    "plt.xlabel('Scores',fontsize=20)\n",
    "plt.ylabel('#Contigs',fontsize=20)\n",
    "\n",
    "plt.scatter(x=EFAECIUM_ISOLATES['pb'],y=EFAECIUM_ISOLATES['nb_ctg'],color='red',label='PLASBIN')\n",
    "plt.scatter(x=EFAECIUM_ISOLATES['hy'],y=EFAECIUM_ISOLATES['nb_ctg'],color='blue',label='HYASP')\n",
    "plt.scatter(x=EFAECIUM_ISOLATES['mob'],y=EFAECIUM_ISOLATES['nb_ctg'],color='green',label='MOBRECON')\n",
    "#plt.scatter(x=EFAECALIS_ISOLATES['psp'],y=EFAECALIS_ISOLATES['nb_ctg'],color='black',label='PSPADES')\n",
    "\n",
    "plt.legend(loc='upper right',fontsize=20)\n",
    "plt.rcParams[\"figure.figsize\"] = (10,10)\n",
    "plt.tight_layout()\n",
    " \n",
    "plt.show()"
   ]
  },
  {
   "cell_type": "markdown",
   "metadata": {},
   "source": [
    "From this plot, we can see very few scores below 0.5. In fact, all tools consistently have predictions that have a dissimilarity score >= 0.5, with the exception of PlasBin. For isolates having more than 50 contigs, the dissimilarity score is almost always greater than 0.6. "
   ]
  },
  {
   "cell_type": "markdown",
   "metadata": {},
   "source": [
    "The high level of dissimilarity from all the tools can be explained by the lack of representation of plasmidic hybrid contigs in the dataset. It is likely that the plasmids have been fragemented into smaller linear contigs. As a result, these contigs are misclassified. This can be especially observed in isolates with high number of contigs."
   ]
  },
  {
   "cell_type": "code",
   "execution_count": null,
   "metadata": {
    "jupyter": {
     "source_hidden": true
    }
   },
   "outputs": [],
   "source": []
  }
 ],
 "metadata": {
  "kernelspec": {
   "display_name": "Python 3 (ipykernel)",
   "language": "python",
   "name": "python3"
  },
  "language_info": {
   "codemirror_mode": {
    "name": "ipython",
    "version": 3
   },
   "file_extension": ".py",
   "mimetype": "text/x-python",
   "name": "python",
   "nbconvert_exporter": "python",
   "pygments_lexer": "ipython3",
   "version": "3.10.8"
  }
 },
 "nbformat": 4,
 "nbformat_minor": 4
}
